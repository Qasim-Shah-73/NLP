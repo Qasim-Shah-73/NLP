{
  "nbformat": 4,
  "nbformat_minor": 0,
  "metadata": {
    "colab": {
      "provenance": [],
      "authorship_tag": "ABX9TyMRA/OTIsL5YUcW5vFNRlAF",
      "include_colab_link": true
    },
    "kernelspec": {
      "name": "python3",
      "display_name": "Python 3"
    },
    "language_info": {
      "name": "python"
    }
  },
  "cells": [
    {
      "cell_type": "markdown",
      "metadata": {
        "id": "view-in-github",
        "colab_type": "text"
      },
      "source": [
        "<a href=\"https://colab.research.google.com/github/Qasim-Shah-73/NLP/blob/master/NLP_Tutorial_1.ipynb\" target=\"_parent\"><img src=\"https://colab.research.google.com/assets/colab-badge.svg\" alt=\"Open In Colab\"/></a>"
      ]
    },
    {
      "cell_type": "code",
      "execution_count": null,
      "metadata": {
        "colab": {
          "base_uri": "https://localhost:8080/"
        },
        "id": "gvQvkTx3Q5tG",
        "outputId": "68cd069b-a3ce-4ab0-871e-018248eeb904"
      },
      "outputs": [
        {
          "output_type": "stream",
          "name": "stdout",
          "text": [
            "Mounted at /content/drive\n"
          ]
        }
      ],
      "source": [
        "from google.colab import drive\n",
        "drive.mount('/content/drive')\n"
      ]
    },
    {
      "cell_type": "code",
      "source": [
        "import nltk\n",
        "nltk.download('stopwords')"
      ],
      "metadata": {
        "colab": {
          "base_uri": "https://localhost:8080/"
        },
        "id": "NK8miuRAQ_Rz",
        "outputId": "450d0012-3344-4fe7-bb85-f7e963a68841"
      },
      "execution_count": null,
      "outputs": [
        {
          "output_type": "stream",
          "name": "stderr",
          "text": [
            "[nltk_data] Downloading package stopwords to /root/nltk_data...\n",
            "[nltk_data]   Unzipping corpora/stopwords.zip.\n"
          ]
        },
        {
          "output_type": "execute_result",
          "data": {
            "text/plain": [
              "True"
            ]
          },
          "metadata": {},
          "execution_count": 2
        }
      ]
    },
    {
      "cell_type": "code",
      "source": [
        "import pandas as pd\n",
        "import numpy as np\n",
        "import string\n",
        "from nltk.corpus import stopwords\n",
        "from sklearn.feature_extraction.text import CountVectorizer\n",
        "from sklearn.model_selection import train_test_split\n",
        "from sklearn.naive_bayes import MultinomialNB\n",
        "from sklearn.metrics import accuracy_score"
      ],
      "metadata": {
        "id": "XPfOtq91RgEX"
      },
      "execution_count": null,
      "outputs": []
    },
    {
      "cell_type": "code",
      "source": [
        "# Load the fake news and true news dataset\n",
        "fake = pd.read_csv(\"/content/drive/MyDrive/Colab Notebooks/Applied AI/NLP/Tutorial 2/Fake/Fake.csv\")\n",
        "print(fake)\n",
        "true = pd.read_csv(\"/content/drive/MyDrive/Colab Notebooks/Applied AI/NLP/Tutorial 2/True/True.csv\")\n",
        "true"
      ],
      "metadata": {
        "colab": {
          "base_uri": "https://localhost:8080/",
          "height": 423
        },
        "id": "UPecPK5SRsBH",
        "outputId": "619e294a-53dd-49ae-c0b5-95acaa86b5f3"
      },
      "execution_count": null,
      "outputs": [
        {
          "output_type": "execute_result",
          "data": {
            "text/plain": [
              "                                                   title  \\\n",
              "0      As U.S. budget fight looms, Republicans flip t...   \n",
              "1      U.S. military to accept transgender recruits o...   \n",
              "2      Senior U.S. Republican senator: 'Let Mr. Muell...   \n",
              "3      FBI Russia probe helped by Australian diplomat...   \n",
              "4      Trump wants Postal Service to charge 'much mor...   \n",
              "...                                                  ...   \n",
              "21412  'Fully committed' NATO backs new U.S. approach...   \n",
              "21413  LexisNexis withdrew two products from Chinese ...   \n",
              "21414  Minsk cultural hub becomes haven from authorities   \n",
              "21415  Vatican upbeat on possibility of Pope Francis ...   \n",
              "21416  Indonesia to buy $1.14 billion worth of Russia...   \n",
              "\n",
              "                                                    text       subject  \\\n",
              "0      WASHINGTON (Reuters) - The head of a conservat...  politicsNews   \n",
              "1      WASHINGTON (Reuters) - Transgender people will...  politicsNews   \n",
              "2      WASHINGTON (Reuters) - The special counsel inv...  politicsNews   \n",
              "3      WASHINGTON (Reuters) - Trump campaign adviser ...  politicsNews   \n",
              "4      SEATTLE/WASHINGTON (Reuters) - President Donal...  politicsNews   \n",
              "...                                                  ...           ...   \n",
              "21412  BRUSSELS (Reuters) - NATO allies on Tuesday we...     worldnews   \n",
              "21413  LONDON (Reuters) - LexisNexis, a provider of l...     worldnews   \n",
              "21414  MINSK (Reuters) - In the shadow of disused Sov...     worldnews   \n",
              "21415  MOSCOW (Reuters) - Vatican Secretary of State ...     worldnews   \n",
              "21416  JAKARTA (Reuters) - Indonesia will buy 11 Sukh...     worldnews   \n",
              "\n",
              "                     date  \n",
              "0      December 31, 2017   \n",
              "1      December 29, 2017   \n",
              "2      December 31, 2017   \n",
              "3      December 30, 2017   \n",
              "4      December 29, 2017   \n",
              "...                   ...  \n",
              "21412    August 22, 2017   \n",
              "21413    August 22, 2017   \n",
              "21414    August 22, 2017   \n",
              "21415    August 22, 2017   \n",
              "21416    August 22, 2017   \n",
              "\n",
              "[21417 rows x 4 columns]"
            ],
            "text/html": [
              "\n",
              "  <div id=\"df-79d54f1d-a47f-409f-8969-5574f9c3ae6c\" class=\"colab-df-container\">\n",
              "    <div>\n",
              "<style scoped>\n",
              "    .dataframe tbody tr th:only-of-type {\n",
              "        vertical-align: middle;\n",
              "    }\n",
              "\n",
              "    .dataframe tbody tr th {\n",
              "        vertical-align: top;\n",
              "    }\n",
              "\n",
              "    .dataframe thead th {\n",
              "        text-align: right;\n",
              "    }\n",
              "</style>\n",
              "<table border=\"1\" class=\"dataframe\">\n",
              "  <thead>\n",
              "    <tr style=\"text-align: right;\">\n",
              "      <th></th>\n",
              "      <th>title</th>\n",
              "      <th>text</th>\n",
              "      <th>subject</th>\n",
              "      <th>date</th>\n",
              "    </tr>\n",
              "  </thead>\n",
              "  <tbody>\n",
              "    <tr>\n",
              "      <th>0</th>\n",
              "      <td>As U.S. budget fight looms, Republicans flip t...</td>\n",
              "      <td>WASHINGTON (Reuters) - The head of a conservat...</td>\n",
              "      <td>politicsNews</td>\n",
              "      <td>December 31, 2017</td>\n",
              "    </tr>\n",
              "    <tr>\n",
              "      <th>1</th>\n",
              "      <td>U.S. military to accept transgender recruits o...</td>\n",
              "      <td>WASHINGTON (Reuters) - Transgender people will...</td>\n",
              "      <td>politicsNews</td>\n",
              "      <td>December 29, 2017</td>\n",
              "    </tr>\n",
              "    <tr>\n",
              "      <th>2</th>\n",
              "      <td>Senior U.S. Republican senator: 'Let Mr. Muell...</td>\n",
              "      <td>WASHINGTON (Reuters) - The special counsel inv...</td>\n",
              "      <td>politicsNews</td>\n",
              "      <td>December 31, 2017</td>\n",
              "    </tr>\n",
              "    <tr>\n",
              "      <th>3</th>\n",
              "      <td>FBI Russia probe helped by Australian diplomat...</td>\n",
              "      <td>WASHINGTON (Reuters) - Trump campaign adviser ...</td>\n",
              "      <td>politicsNews</td>\n",
              "      <td>December 30, 2017</td>\n",
              "    </tr>\n",
              "    <tr>\n",
              "      <th>4</th>\n",
              "      <td>Trump wants Postal Service to charge 'much mor...</td>\n",
              "      <td>SEATTLE/WASHINGTON (Reuters) - President Donal...</td>\n",
              "      <td>politicsNews</td>\n",
              "      <td>December 29, 2017</td>\n",
              "    </tr>\n",
              "    <tr>\n",
              "      <th>...</th>\n",
              "      <td>...</td>\n",
              "      <td>...</td>\n",
              "      <td>...</td>\n",
              "      <td>...</td>\n",
              "    </tr>\n",
              "    <tr>\n",
              "      <th>21412</th>\n",
              "      <td>'Fully committed' NATO backs new U.S. approach...</td>\n",
              "      <td>BRUSSELS (Reuters) - NATO allies on Tuesday we...</td>\n",
              "      <td>worldnews</td>\n",
              "      <td>August 22, 2017</td>\n",
              "    </tr>\n",
              "    <tr>\n",
              "      <th>21413</th>\n",
              "      <td>LexisNexis withdrew two products from Chinese ...</td>\n",
              "      <td>LONDON (Reuters) - LexisNexis, a provider of l...</td>\n",
              "      <td>worldnews</td>\n",
              "      <td>August 22, 2017</td>\n",
              "    </tr>\n",
              "    <tr>\n",
              "      <th>21414</th>\n",
              "      <td>Minsk cultural hub becomes haven from authorities</td>\n",
              "      <td>MINSK (Reuters) - In the shadow of disused Sov...</td>\n",
              "      <td>worldnews</td>\n",
              "      <td>August 22, 2017</td>\n",
              "    </tr>\n",
              "    <tr>\n",
              "      <th>21415</th>\n",
              "      <td>Vatican upbeat on possibility of Pope Francis ...</td>\n",
              "      <td>MOSCOW (Reuters) - Vatican Secretary of State ...</td>\n",
              "      <td>worldnews</td>\n",
              "      <td>August 22, 2017</td>\n",
              "    </tr>\n",
              "    <tr>\n",
              "      <th>21416</th>\n",
              "      <td>Indonesia to buy $1.14 billion worth of Russia...</td>\n",
              "      <td>JAKARTA (Reuters) - Indonesia will buy 11 Sukh...</td>\n",
              "      <td>worldnews</td>\n",
              "      <td>August 22, 2017</td>\n",
              "    </tr>\n",
              "  </tbody>\n",
              "</table>\n",
              "<p>21417 rows × 4 columns</p>\n",
              "</div>\n",
              "    <div class=\"colab-df-buttons\">\n",
              "\n",
              "  <div class=\"colab-df-container\">\n",
              "    <button class=\"colab-df-convert\" onclick=\"convertToInteractive('df-79d54f1d-a47f-409f-8969-5574f9c3ae6c')\"\n",
              "            title=\"Convert this dataframe to an interactive table.\"\n",
              "            style=\"display:none;\">\n",
              "\n",
              "  <svg xmlns=\"http://www.w3.org/2000/svg\" height=\"24px\" viewBox=\"0 -960 960 960\">\n",
              "    <path d=\"M120-120v-720h720v720H120Zm60-500h600v-160H180v160Zm220 220h160v-160H400v160Zm0 220h160v-160H400v160ZM180-400h160v-160H180v160Zm440 0h160v-160H620v160ZM180-180h160v-160H180v160Zm440 0h160v-160H620v160Z\"/>\n",
              "  </svg>\n",
              "    </button>\n",
              "\n",
              "  <style>\n",
              "    .colab-df-container {\n",
              "      display:flex;\n",
              "      gap: 12px;\n",
              "    }\n",
              "\n",
              "    .colab-df-convert {\n",
              "      background-color: #E8F0FE;\n",
              "      border: none;\n",
              "      border-radius: 50%;\n",
              "      cursor: pointer;\n",
              "      display: none;\n",
              "      fill: #1967D2;\n",
              "      height: 32px;\n",
              "      padding: 0 0 0 0;\n",
              "      width: 32px;\n",
              "    }\n",
              "\n",
              "    .colab-df-convert:hover {\n",
              "      background-color: #E2EBFA;\n",
              "      box-shadow: 0px 1px 2px rgba(60, 64, 67, 0.3), 0px 1px 3px 1px rgba(60, 64, 67, 0.15);\n",
              "      fill: #174EA6;\n",
              "    }\n",
              "\n",
              "    .colab-df-buttons div {\n",
              "      margin-bottom: 4px;\n",
              "    }\n",
              "\n",
              "    [theme=dark] .colab-df-convert {\n",
              "      background-color: #3B4455;\n",
              "      fill: #D2E3FC;\n",
              "    }\n",
              "\n",
              "    [theme=dark] .colab-df-convert:hover {\n",
              "      background-color: #434B5C;\n",
              "      box-shadow: 0px 1px 3px 1px rgba(0, 0, 0, 0.15);\n",
              "      filter: drop-shadow(0px 1px 2px rgba(0, 0, 0, 0.3));\n",
              "      fill: #FFFFFF;\n",
              "    }\n",
              "  </style>\n",
              "\n",
              "    <script>\n",
              "      const buttonEl =\n",
              "        document.querySelector('#df-79d54f1d-a47f-409f-8969-5574f9c3ae6c button.colab-df-convert');\n",
              "      buttonEl.style.display =\n",
              "        google.colab.kernel.accessAllowed ? 'block' : 'none';\n",
              "\n",
              "      async function convertToInteractive(key) {\n",
              "        const element = document.querySelector('#df-79d54f1d-a47f-409f-8969-5574f9c3ae6c');\n",
              "        const dataTable =\n",
              "          await google.colab.kernel.invokeFunction('convertToInteractive',\n",
              "                                                    [key], {});\n",
              "        if (!dataTable) return;\n",
              "\n",
              "        const docLinkHtml = 'Like what you see? Visit the ' +\n",
              "          '<a target=\"_blank\" href=https://colab.research.google.com/notebooks/data_table.ipynb>data table notebook</a>'\n",
              "          + ' to learn more about interactive tables.';\n",
              "        element.innerHTML = '';\n",
              "        dataTable['output_type'] = 'display_data';\n",
              "        await google.colab.output.renderOutput(dataTable, element);\n",
              "        const docLink = document.createElement('div');\n",
              "        docLink.innerHTML = docLinkHtml;\n",
              "        element.appendChild(docLink);\n",
              "      }\n",
              "    </script>\n",
              "  </div>\n",
              "\n",
              "\n",
              "<div id=\"df-edf1c97f-6579-44e9-8a34-d23aaad58b2a\">\n",
              "  <button class=\"colab-df-quickchart\" onclick=\"quickchart('df-edf1c97f-6579-44e9-8a34-d23aaad58b2a')\"\n",
              "            title=\"Suggest charts\"\n",
              "            style=\"display:none;\">\n",
              "\n",
              "<svg xmlns=\"http://www.w3.org/2000/svg\" height=\"24px\"viewBox=\"0 0 24 24\"\n",
              "     width=\"24px\">\n",
              "    <g>\n",
              "        <path d=\"M19 3H5c-1.1 0-2 .9-2 2v14c0 1.1.9 2 2 2h14c1.1 0 2-.9 2-2V5c0-1.1-.9-2-2-2zM9 17H7v-7h2v7zm4 0h-2V7h2v10zm4 0h-2v-4h2v4z\"/>\n",
              "    </g>\n",
              "</svg>\n",
              "  </button>\n",
              "\n",
              "<style>\n",
              "  .colab-df-quickchart {\n",
              "      --bg-color: #E8F0FE;\n",
              "      --fill-color: #1967D2;\n",
              "      --hover-bg-color: #E2EBFA;\n",
              "      --hover-fill-color: #174EA6;\n",
              "      --disabled-fill-color: #AAA;\n",
              "      --disabled-bg-color: #DDD;\n",
              "  }\n",
              "\n",
              "  [theme=dark] .colab-df-quickchart {\n",
              "      --bg-color: #3B4455;\n",
              "      --fill-color: #D2E3FC;\n",
              "      --hover-bg-color: #434B5C;\n",
              "      --hover-fill-color: #FFFFFF;\n",
              "      --disabled-bg-color: #3B4455;\n",
              "      --disabled-fill-color: #666;\n",
              "  }\n",
              "\n",
              "  .colab-df-quickchart {\n",
              "    background-color: var(--bg-color);\n",
              "    border: none;\n",
              "    border-radius: 50%;\n",
              "    cursor: pointer;\n",
              "    display: none;\n",
              "    fill: var(--fill-color);\n",
              "    height: 32px;\n",
              "    padding: 0;\n",
              "    width: 32px;\n",
              "  }\n",
              "\n",
              "  .colab-df-quickchart:hover {\n",
              "    background-color: var(--hover-bg-color);\n",
              "    box-shadow: 0 1px 2px rgba(60, 64, 67, 0.3), 0 1px 3px 1px rgba(60, 64, 67, 0.15);\n",
              "    fill: var(--button-hover-fill-color);\n",
              "  }\n",
              "\n",
              "  .colab-df-quickchart-complete:disabled,\n",
              "  .colab-df-quickchart-complete:disabled:hover {\n",
              "    background-color: var(--disabled-bg-color);\n",
              "    fill: var(--disabled-fill-color);\n",
              "    box-shadow: none;\n",
              "  }\n",
              "\n",
              "  .colab-df-spinner {\n",
              "    border: 2px solid var(--fill-color);\n",
              "    border-color: transparent;\n",
              "    border-bottom-color: var(--fill-color);\n",
              "    animation:\n",
              "      spin 1s steps(1) infinite;\n",
              "  }\n",
              "\n",
              "  @keyframes spin {\n",
              "    0% {\n",
              "      border-color: transparent;\n",
              "      border-bottom-color: var(--fill-color);\n",
              "      border-left-color: var(--fill-color);\n",
              "    }\n",
              "    20% {\n",
              "      border-color: transparent;\n",
              "      border-left-color: var(--fill-color);\n",
              "      border-top-color: var(--fill-color);\n",
              "    }\n",
              "    30% {\n",
              "      border-color: transparent;\n",
              "      border-left-color: var(--fill-color);\n",
              "      border-top-color: var(--fill-color);\n",
              "      border-right-color: var(--fill-color);\n",
              "    }\n",
              "    40% {\n",
              "      border-color: transparent;\n",
              "      border-right-color: var(--fill-color);\n",
              "      border-top-color: var(--fill-color);\n",
              "    }\n",
              "    60% {\n",
              "      border-color: transparent;\n",
              "      border-right-color: var(--fill-color);\n",
              "    }\n",
              "    80% {\n",
              "      border-color: transparent;\n",
              "      border-right-color: var(--fill-color);\n",
              "      border-bottom-color: var(--fill-color);\n",
              "    }\n",
              "    90% {\n",
              "      border-color: transparent;\n",
              "      border-bottom-color: var(--fill-color);\n",
              "    }\n",
              "  }\n",
              "</style>\n",
              "\n",
              "  <script>\n",
              "    async function quickchart(key) {\n",
              "      const quickchartButtonEl =\n",
              "        document.querySelector('#' + key + ' button');\n",
              "      quickchartButtonEl.disabled = true;  // To prevent multiple clicks.\n",
              "      quickchartButtonEl.classList.add('colab-df-spinner');\n",
              "      try {\n",
              "        const charts = await google.colab.kernel.invokeFunction(\n",
              "            'suggestCharts', [key], {});\n",
              "      } catch (error) {\n",
              "        console.error('Error during call to suggestCharts:', error);\n",
              "      }\n",
              "      quickchartButtonEl.classList.remove('colab-df-spinner');\n",
              "      quickchartButtonEl.classList.add('colab-df-quickchart-complete');\n",
              "    }\n",
              "    (() => {\n",
              "      let quickchartButtonEl =\n",
              "        document.querySelector('#df-edf1c97f-6579-44e9-8a34-d23aaad58b2a button');\n",
              "      quickchartButtonEl.style.display =\n",
              "        google.colab.kernel.accessAllowed ? 'block' : 'none';\n",
              "    })();\n",
              "  </script>\n",
              "</div>\n",
              "    </div>\n",
              "  </div>\n"
            ]
          },
          "metadata": {},
          "execution_count": 5
        }
      ]
    },
    {
      "cell_type": "code",
      "source": [
        "# Add a column in each one of the dataframes called ‘fake_news’ and input 1 for the fake and 0 for true\n",
        "true[\"fake_news\"] = 0\n",
        "fake[\"fake_news\"] = 1"
      ],
      "metadata": {
        "id": "tLW7JlrjRu2i"
      },
      "execution_count": null,
      "outputs": []
    },
    {
      "cell_type": "code",
      "source": [
        "# Concatenate the two datasets into one\n",
        "dataframe = pd.concat([true, fake], axis = 0)\n",
        "\n",
        "# Create a new column where you combine the title, text and subject\n",
        "dataframe[\"Article\"] = dataframe[\"subject\"] + \" \"+ dataframe[\"text\"] + \" \" + dataframe[\"title\"]"
      ],
      "metadata": {
        "id": "xreXvkoqSlxW"
      },
      "execution_count": null,
      "outputs": []
    },
    {
      "cell_type": "code",
      "source": [
        "# Remove all punctuations from the newly combined column\n",
        "dataframe[\"Article\"] = dataframe[\"Article\"].str.replace('[^\\w\\s]','', regex=True)\n",
        "\n",
        "# Remove all stopwords from the new column\n",
        "stop_words = stopwords.words('english')\n",
        "dataframe['Article'] = dataframe['Article'].apply(lambda x: ' '.join([word for word in x.split() if word not in (stop_words)]))\n",
        "dataframe[\"Article\"]"
      ],
      "metadata": {
        "colab": {
          "base_uri": "https://localhost:8080/"
        },
        "id": "H2aaQftfSmeT",
        "outputId": "acaeeee7-a36d-42b0-c798-9418a002c0f9"
      },
      "execution_count": null,
      "outputs": [
        {
          "output_type": "execute_result",
          "data": {
            "text/plain": [
              "0        politicsNews WASHINGTON Reuters The head conse...\n",
              "1        politicsNews WASHINGTON Reuters Transgender pe...\n",
              "2        politicsNews WASHINGTON Reuters The special co...\n",
              "3        politicsNews WASHINGTON Reuters Trump campaign...\n",
              "4        politicsNews SEATTLEWASHINGTON Reuters Preside...\n",
              "                               ...                        \n",
              "23476    Middleeast 21st Century Wire says As 21WIRE re...\n",
              "23477    Middleeast 21st Century Wire says It familiar ...\n",
              "23478    Middleeast Patrick Henningsen 21st Century Wir...\n",
              "23479    Middleeast 21st Century Wire says Al Jazeera A...\n",
              "23480    Middleeast 21st Century Wire says As 21WIRE pr...\n",
              "Name: Article, Length: 44898, dtype: object"
            ]
          },
          "metadata": {},
          "execution_count": 8
        }
      ]
    },
    {
      "cell_type": "code",
      "source": [
        "# Drop the columns that are not required anymore\n",
        "dataframe = dataframe.drop([\"text\", \"subject\", \"date\", \"title\"], axis = 1)"
      ],
      "metadata": {
        "id": "hr3D9HMxTOmP"
      },
      "execution_count": null,
      "outputs": []
    },
    {
      "cell_type": "code",
      "source": [
        "# split the data\n",
        "DependentVariable = \"fake_news\"\n",
        "X = dataframe.drop([DependentVariable], axis = 1)\n",
        "y = dataframe[DependentVariable]\n",
        "X_train, X_test, y_train, y_test = train_test_split(X,y, test_size=0.25)"
      ],
      "metadata": {
        "id": "_wrEPwEeTlp2"
      },
      "execution_count": null,
      "outputs": []
    },
    {
      "cell_type": "code",
      "source": [
        "# Initialise the count vectorizer\n",
        "count_vect = CountVectorizer(max_features = 5000)# limiting to 5000 unique words, but room to play with this here!\n",
        "X_train_counts = count_vect.fit_transform(X_train[\"Article\"])\n",
        "print(count_vect.vocabulary_) # here is our bag of words!\n",
        "X_test = count_vect.transform(X_test[\"Article\"]) # note: we don't fit it to the model! Or else this is all useless"
      ],
      "metadata": {
        "colab": {
          "base_uri": "https://localhost:8080/"
        },
        "id": "TZcAXu5qUcg8",
        "outputId": "e93b5b38-be3b-4be9-84d8-958e7da92d8d"
      },
      "execution_count": null,
      "outputs": [
        {
          "output_type": "stream",
          "name": "stdout",
          "text": [
            "{'politicsnews': 3380, 'reuters': 3829, 'donald': 1420, 'trumps': 4644, 'us': 4737, 'election': 1513, 'victory': 4778, 'vote': 4814, 'exit': 1648, 'european': 1614, 'union': 4703, 'voters': 4817, 'feel': 1762, 'establishment': 1604, 'leaders': 2597, 'prominent': 3498, 'swiss': 4410, 'said': 3928, 'wednesday': 4874, 'top': 4575, 'official': 3115, 'party': 3251, 'become': 540, 'biggest': 584, 'parliament': 3236, 'win': 4923, 'democrat': 1280, 'hillary': 2142, 'clinton': 900, 'warning': 4844, 'current': 1183, 'world': 4956, 'go': 1971, 'citizens': 875, 'heads': 2101, 'issues': 2416, 'including': 2277, 'immigration': 2250, 'people': 3287, 'rule': 3907, 'trump': 4643, 'release': 3726, 'interview': 2369, 'the': 4500, 'result': 3818, 'give': 1963, 'power': 3411, 'around': 399, 'next': 3034, 'year': 4979, 'france': 1884, 'germany': 1952, 'possibly': 3401, 'italy': 2420, 'britain': 673, 'hold': 2160, 'elections': 1514, 'debate': 1227, 'likely': 2661, 'driven': 1454, 'populist': 3390, 'parties': 3244, 'that': 4498, 'also': 285, 'central': 802, 'theme': 4504, 'june': 2491, '23': 53, 'brexit': 661, 'end': 1548, '43': 76, 'years': 4980, 'eu': 1611, 'membership': 2841, 'seeking': 4009, 'balance': 493, 'demands': 1278, '2014': 38, 'workers': 4953, 'without': 4938, 'trade': 4595, 'agreements': 236, 'bloc': 610, 'considered': 1035, 'ignore': 2233, 'when': 4896, 'politicians': 3377, 'refuse': 3691, 'take': 4421, 'mass': 2796, 'seriously': 4046, 'lead': 2595, 'shock': 4091, 'like': 2660, 'america': 297, 'responses': 3810, 'amid': 301, 'violent': 4795, 'islamist': 2407, 'attacks': 443, 'belgium': 556, 'helped': 2118, 'political': 3374, 'national': 2987, 'front': 1903, 'well': 4885, 'alternative': 287, 'gain': 1925, 'they': 4513, 'stand': 4248, 'taking': 4424, 'problems': 3474, 'refuses': 3693, 'tackle': 4418, 'one': 3130, 'big': 582, 'question': 3580, 'speak': 4205, 'openly': 3139, 'islamic': 2406, 'countries': 1122, 'you': 4986, 'cant': 746, 'tear': 4453, 'everybody': 1624, 'critical': 1159, 'politics': 3379, 'announced': 326, 'thursday': 4542, 'longer': 2700, 'selling': 4021, 'season': 3988, 'ivanka': 2424, 'fashion': 1735, 'line': 2667, 'left': 2616, 'truly': 4642, 'shocked': 4092, 'daughter': 1210, 'president': 3433, 'united': 4708, 'states': 4265, 'agree': 233, 'positions': 3396, 'security': 4004, 'let': 2631, 'outrage': 3186, 'agreed': 234, 'cancel': 739, 'clothing': 910, 'obama': 3082, 'conservatives': 1032, 'approve': 378, 'former': 1867, 'honest': 2170, 'journalist': 2475, 'mainstream': 2751, 'media': 2828, 'would': 4965, 'exposing': 1676, 'hypocrisy': 2219, 'demand': 1275, 'show': 4105, 'tolerance': 4565, 'points': 3369, 'view': 4782, 'group': 2022, 'relationship': 3722, 'chain': 810, 'brand': 652, 'came': 726, 'boycott': 647, 'threats': 4534, 'grab': 1998, 'your': 4989, 'campaign': 730, 'called': 720, 'stay': 4272, 'away': 477, 'companies': 968, 'sell': 4020, 'seattle': 3991, 'times': 4552, 'tweeted': 4665, 'decision': 1238, 'stop': 4292, 'move': 2947, 'based': 520, 'sales': 3931, 'performance': 3296, 'spokesperson': 4226, 'say': 3949, 'permanent': 3300, 'after': 218, 'to': 4559, 'by': 714, 'news': 3031, 'mistake': 2903, 'made': 2741, 'saying': 3950, 'half': 2053, 'supporters': 4376, 'fact': 1703, 'number': 3075, 'low': 2726, 'it': 2418, 'safe': 3926, 'least': 2608, 'racist': 3597, 'outright': 3190, 'horrible': 2180, 'human': 2208, 'need': 3007, 'proof': 3508, 'maybe': 2813, 'living': 2684, 'ability': 111, 'access': 128, 'video': 4779, 'terrible': 4479, 'hear': 2105, 'racial': 3595, 'language': 2564, 'women': 4943, 'minorities': 2888, 'going': 1976, 'directly': 1358, 'acceptable': 125, 'many': 2777, 'nation': 2986, 'right': 3857, 'make': 2757, 'every': 1623, 'person': 3306, 'body': 623, 'probably': 3471, 'absolutely': 119, 'de': 1217, 'able': 112, 'bad': 489, 'way': 4860, 'causes': 789, 'fear': 1749, 'september': 4041, '10': 0, 'image': 2243, 'via': 4774, 'screen': 3978, 'capture': 753, 'new': 3029, 'shows': 4109, 'are': 384, 'in': 2267, 'worldnews': 4957, 'final': 1796, 'zealand': 4993, 'due': 1465, 'released': 3727, 'saturday': 3942, 'could': 1113, 'see': 4005, 'opposition': 3156, 'labour': 2556, 'greens': 2015, 'seats': 3990, 'still': 4286, 'leave': 2609, 'nationalist': 2988, 'first': 1817, 'holding': 2162, 'leader': 2596, 'back': 482, 'form': 1863, 'coalition': 915, 'government': 1993, 'count': 1117, 'held': 2115, 'initial': 2316, 'talks': 4429, 'prime': 3456, 'minister': 2883, 'bill': 588, 'english': 1566, 'ruling': 3910, 'formal': 1864, 'place': 3336, 'week': 4875, 'oct': 3098, '12': 6, 'ahead': 238, 'possible': 3400, '52': 88, 'holds': 2163, 'nine': 3042, 'past': 3260, 'lose': 2712, 'two': 4670, 'special': 4209, 'votes': 4818, '15': 9, 'percent': 3290, 'ballots': 498, 'include': 2274, 'overseas': 3198, 'executive': 1640, 'director': 1359, 'initiative': 2318, 'pick': 3329, 'quite': 3589, 'surprising': 4389, 'usually': 4749, 'favor': 1740, 'formed': 1866, 'governments': 1994, 'analysts': 309, 'believe': 559, 'comfortable': 945, 'join': 2460, 'policies': 3372, 'thought': 4525, 'common': 962, 'want': 4836, 'curb': 1181, 'certain': 806, 'deals': 1224, 'role': 3883, 'bank': 503, 'different': 1346, 'ways': 4861, 'nobody': 3045, 'really': 3644, 'tell': 4464, 'moment': 2921, 'he': 2094, 'completely': 980, 'kept': 2512, 'cards': 758, 'close': 904, 'read': 3633, 'while': 4901, 'enough': 1569, 'green': 2014, 'james': 2431, 'played': 3351, 'recent': 3656, 'speculation': 4212, 'may': 2812, 'enter': 1572, 'working': 4954, 'agreement': 235, 'us_news': 4738, 'reality': 3641, 'carefully': 762, 'powerful': 3412, 'corporate': 1103, 'interest': 2357, 'sources': 4193, 'order': 3161, 'public': 3548, 'opinion': 3145, 'lies': 2652, 'often': 3118, 'televised': 4462, 'regarding': 3696, 'terrorism': 4482, 'food': 1850, 'war': 4840, 'health': 2102, 'condition': 1001, 'viewers': 4784, 'accept': 124, 'practice': 3414, 'messages': 2852, 'whole': 4906, 'industry': 2305, 'entire': 1576, 'figure': 1786, 'information': 2313, 'journalists': 2476, 'similar': 4126, 'lobbying': 2688, 'never': 3028, 'clear': 892, 'much': 2958, 'truth': 4647, 'receive': 3653, 'powers': 3413, 'spend': 4217, 'millions': 2877, 'advertising': 194, 'six': 4139, '90': 101, 'electric': 1516, 'disney': 1382, 'time': 4551, 'warner': 4843, 'cbs': 791, 'yet': 4984, 'corporations': 1105, 'fox': 1882, 'abc': 107, 'cnn': 912, 'wall': 4832, 'street': 4306, 'journal': 2473, 'giving': 1966, 'choice': 853, 'as': 410, 'researchers': 3787, 'showed': 4106, 'important': 2258, 'victims': 4777, 'aware': 476, 'environment': 1581, 'controlled': 1076, 'thus': 4543, 'vast': 4759, 'whose': 4907, 'slightly': 4148, 'sense': 4030, 'control': 1075, 'rise': 3864, 'propaganda': 3509, 'machine': 2737, 'continues': 1062, 'expand': 1649, 'investigative': 2382, 'reporter': 3760, 'explains': 1668, 'fake': 1717, 'grassroots': 2008, 'movements': 2950, 'used': 4742, 'influence': 2309, 'interests': 2360, 'start': 4256, 'facebook': 1697, 'twitter': 4669, 'accounts': 136, 'ads': 187, 'letters': 2634, 'editor': 1494, 'simply': 4128, 'post': 3402, 'comments': 950, 'online': 3133, 'try': 4648, 'thinking': 4518, 'independent': 2290, 'movement': 2949, 'speaking': 4207, 'separate': 4038, 'talk': 4426, 'identify': 2225, 'signs': 4123, 'these': 4512, 'widespread': 4912, 'support': 4373, 'agenda': 227, 'exist': 1644, 'tactics': 4419, 'discredit': 1370, 'criticize': 1161, 'disagree': 1362, 'using': 4746, 'names': 2981, 'conspiracy': 1040, 'someone': 4176, 'reveal': 3831, 'questions': 3583, 'story': 4299, 'deeper': 1250, 'encourage': 1545, 'scrutiny': 3983, 'article': 407, 'reveals': 3833, 'uses': 4745, 'originally': 3173, 'created': 1144, 'published': 3551, 'license': 2649, 'proper': 3510, 'author': 463, 'statement': 4262, 'more': 2934, 'at': 437, '21st': 49, 'century': 803, 'wire': 4930, 'watch': 4852, 'files': 1790, 'leftnews': 2618, 'threat': 4529, 'fbi': 1745, 'friday': 1898, 'conversations': 1082, 'firing': 1814, 'recorded': 3668, 'comey': 943, 'better': 575, 'hope': 2174, 'starts': 4259, 'press': 3437, 'realdonaldtrump': 3640, 'unclear': 4685, 'whether': 4899, 'white': 4902, 'house': 2194, 'recording': 3669, 'calls': 723, 'believes': 561, 'nbc': 3001, 'men': 2844, 'spoken': 4224, 'three': 4535, 'since': 4129, 'inauguration': 2270, 'fire': 1810, 'insisted': 2329, 'personally': 3309, 'subject': 4336, 'federal': 1758, 'investigations': 2381, 'dinner': 1350, 'twice': 4668, 'phone': 3322, 'described': 1304, 'exchange': 1636, 'asked': 415, 'unusual': 4722, 'got': 1989, 'response': 3809, 'if': 2230, 'know': 2536, 'investigation': 2380, 'recalled': 3652, 'rare': 3622, 'law': 2585, 'enforcement': 1560, 'anyone': 346, 'reporters': 3761, 'circumstances': 870, 'behind': 552, 'tuesday': 4652, 'highprofile': 2138, 'side': 4113, 'senate': 4023, 'intelligence': 2350, 'committee': 959, 'testify': 4488, 'latest': 2574, 'reports': 3763, 'demanded': 1276, 'loyalty': 2731, 'private': 3467, 'claims': 884, 'associates': 433, 'fired': 1812, 'told': 4564, 'seven': 4064, 'days': 1215, 'york': 4985, 'reportedly': 3759, 'pledge': 3359, 'commander': 948, 'claim': 881, 'declined': 1245, 'always': 290, 'pressed': 3438, 'conversation': 1081, 'version': 4768, 'events': 1620, 'denied': 1289, 'but': 710, 'morning': 2936, 'perfect': 3293, 'talking': 4428, 'pair': 3218, 'believed': 560, 'together': 4562, 'privately': 3468, 'indicated': 2296, 'request': 3776, 'keep': 2502, 'job': 2455, 'wanted': 4837, 'we': 4862, 'nice': 3036, 'followed': 1846, 'think': 4517, 'and': 312, 'head': 2095, 'consider': 1033, 'happens': 2069, 'investigating': 2379, 'part': 3238, 'probe': 3472, 'alleged': 269, 'collusion': 932, 'members': 2840, 'russian': 3920, 'prior': 3461, 'concern': 989, 'might': 2864, 'viewed': 4783, 'interference': 2362, 'active': 154, 'publicly': 3550, 'confirm': 1010, 'challenge': 813, 'declared': 1242, 'planned': 3344, 'along': 282, 'regardless': 3697, 'justice': 2494, 'department': 1294, 'officials': 3117, 'recommended': 3665, 'stunning': 4333, 'initially': 2317, 'cited': 871, 'memo': 2842, 'criticizing': 1163, 'handling': 2063, 'last': 2571, 'emails': 1527, 'mail': 2746, 'warns': 4845, 'washington': 4850, 'republican': 3771, 'senators': 4025, 'healthcare': 2103, 'reform': 3685, 'repeal': 3747, 'replace': 3752, 'barack': 512, 'obamas': 3084, 'signature': 4118, 'insurance': 2342, 'program': 3491, 'hoped': 2175, 'lindsey': 2666, 'graham': 2001, 'offered': 3108, 'legislation': 2623, 'money': 2926, 'block': 611, 'grants': 2005, 'instead': 2335, 'funding': 1915, 'get': 1953, 'obamacare': 3083, 'found': 1875, 'address': 173, 'crisis': 1157, 'email': 1526, 'appears': 364, 'doj': 1414, '2016': 40, 'meeting': 2834, 'loretta': 2710, 'lynch': 2736, 'phoenix': 3321, 'documents': 1409, 'related': 3720, 'fill': 1793, 'apparently': 357, 'true': 4641, 'given': 1964, 'obtained': 3091, 'hundreds': 2212, 'pages': 3215, 'ongoing': 3132, 'lawsuit': 2589, 'attorney': 453, 'general': 1943, 'criminal': 1155, 'results': 3820, 'explanation': 1669, 'lied': 2651, 'july': 2487, 'sent': 4032, 'requests': 3778, 'asking': 416, 'plane': 3341, 'replied': 3756, 'no': 3044, 'records': 3670, 'located': 2691, 'received': 3654, 'today': 4560, 'several': 4065, 'concerning': 991, 'flag': 1822, 'richard': 3850, 'michael': 2858, 'ag': 221, 'provides': 3541, 'however': 2202, 'details': 1322, 'on': 3128, 'looking': 2706, 'guidance': 2035, 'responding': 3808, 'prevented': 3445, 'pictures': 3333, 'discussion': 1376, 'went': 4888, 'obtain': 3090, 'an': 306, 'hour': 2192, 'later': 2573, 'office': 3111, 'stated': 4261, 'jim': 2452, 'chief': 845, 'staff': 4240, 'senior': 4029, 'provided': 3539, 'note': 3061, 'contain': 1053, 'requested': 3777, 'per': 3288, 'multiple': 2962, 'within': 4937, 'discussions': 1377, 'husband': 2217, 'reached': 3630, 'highest': 2134, 'levels': 2637, 'october': 3099, '21': 48, 'legal': 2621, 'this': 4521, 'direct': 1355, 'preparing': 3427, 'action': 152, 'force': 1855, 'come': 939, 'clean': 890, 'turn': 4657, 'all': 266, 'matter': 2806, 'heavily': 2112, 'picture': 3332, 'broke': 679, 'appear': 360, 'indicate': 2295, 'team': 4451, 'immediately': 2247, 'began': 545, 'before': 544, 'ever': 1622, 'evidence': 1628, 'main': 2747, 'stream': 4305, 'hoping': 2179, 'put': 3569, 'rest': 3813, 'implemented': 2256, 'specific': 4210, 'change': 823, 'favorable': 1741, 'light': 2659, 'service': 4051, 'cover': 1134, 'breaking': 657, 'talked': 4427, 'producer': 3482, 'noted': 3062, 'interested': 2358, 'even': 1617, 'runs': 3915, 'includes': 2276, 'coverage': 1135, 'looks': 2707, 'says': 3951, 'lines': 2668, 'fourth': 1881, 'delivered': 1273, 'process': 3479, 'supposed': 4379, 'apply': 369, 'agency': 226, 'served': 4048, 'clearly': 894, 'nothing': 3064, 'making': 2759, 'court': 1132, 'pressing': 3439, 'bottom': 643, 'donate': 1421, 'help': 2117, 'fund': 1912, 'work': 4950, 'click': 896, 'discussing': 1375, 'testimony': 4489, 'congress': 1021, 'about': 115, 'with': 4934, 'kill': 2520, 'polls': 3383, 'shown': 4108, 'solid': 4166, 'among': 303, 'college': 929, 'education': 1497, 'what': 4893, 'presidential': 3435, 'gop': 1986, '60': 93, 'huge': 2206, 'means': 2822, 'polling': 3382, 'thinks': 4519, 'minority': 2889, 'so': 4156, 'sort': 4188, 'his': 2148, 'royal': 3904, 'understand': 4692, 'percentage': 3291, 'average': 470, 'five': 1820, 'seems': 4014, 'policy': 3373, 'proposals': 3514, 'racism': 3596, 'correctness': 1108, 'run': 3913, 'actual': 164, 'sit': 4134, 'king': 2529, '2012': 36, 'romney': 3888, 'leads': 2600, 'putting': 3572, 'play': 3350, 'decades': 1233, 'actually': 165, 'competitive': 973, 'georgia': 1950, 'arizona': 393, 'utah': 4750, 'kansas': 2500, 'easily': 1481, 'expect': 1653, 'blue': 618, 'though': 4524, 'overall': 3195, 'fairly': 1715, 'rely': 3733, 'beyond': 576, 'ground': 2020, 'losing': 2714, 'popularity': 3388, 'economic': 1487, 'getting': 1955, 'another': 332, 'position': 3395, 'although': 288, 'for': 1854, 'growing': 2025, 'jeff': 2440, 'images': 2244, 'of': 3102, 'because': 538, 'lawyers': 2592, 'throw': 4538, 'proposed': 3515, 'class': 888, 'actions': 153, 'university': 4712, 'backed': 483, 'financial': 1800, 'disclosure': 1368, 'meant': 2823, 'candidates': 744, 'global': 1968, 'businessman': 708, 'filed': 1789, 'man': 2763, 'hopes': 2178, 'succeed': 4343, 'democratic': 1281, 'presidents': 3436, 'reelection': 3678, 'included': 2275, 'motion': 2944, 'april': 381, 'district': 1392, 'judge': 2481, 'southern': 4196, 'california': 718, 'case': 774, 'trial': 4627, 'according': 132, 'familiar': 1724, 'plaintiffs': 3339, 'lawyer': 2591, 'jason': 2437, 'seized': 4018, 'document': 1407, 'late': 2572, 'opposing': 3154, 'filing': 1792, 'example': 1632, 'statements': 4263, 'complete': 978, 'lack': 2557, 'credibility': 1147, 'spokeswoman': 4227, 'firm': 1815, 'representing': 3768, 'comment': 949, 'supported': 4374, 'chairman': 812, 'organization': 3166, 'business': 706, '500': 84, 'my': 2976, 'father': 1738, 'disclosed': 1367, '2011': 35, 'assets': 428, '26': 56, 'million': 2876, 'facing': 1702, 'lawsuits': 2590, 'series': 4044, 'real': 3639, 'estate': 1605, 'taught': 4440, 'students': 4328, 'fees': 1766, 'presumptive': 3441, 'nominee': 3050, 'nov': 3069, 'raised': 3603, 'litigation': 2679, 'trail': 4604, 'calling': 722, 'politically': 3375, 'motivated': 2945, 'accusing': 143, 'biased': 578, 'mexican': 2854, 'intended': 2351, 'file': 1788, 'summer': 4365, 'running': 3914, 'lists': 2677, '14': 8, 'billion': 589, 'net': 3023, 'worth': 4964, 'channel': 827, 'north': 3058, 'carolina': 766, 'behavior': 551, 'rally': 3609, 'candidate': 743, 'supporter': 4375, 'black': 599, 'protester': 3528, 'county': 1126, 'suspended': 4400, 'pay': 3272, 'weeks': 4878, 'others': 3176, 'act': 149, 'occurred': 3097, 'crown': 1171, 'sheriff': 4084, 'following': 1848, 'john': 2458, 'arrested': 401, 'assault': 423, 'charge': 832, 'seen': 4015, 'face': 1696, 'incident': 2272, 'assaulted': 424, 'prompting': 3507, 'social': 4158, 'criticism': 1160, 'taken': 4422, 'placed': 3337, 'status': 4271, 'months': 2930, 'monday': 2924, 'decided': 1236, 'riot': 3861, 'rejected': 3719, 'blame': 601, 'clashes': 887, 'rallies': 3608, 'field': 1777, 'partys': 3252, 'nomination': 3049, 'paragraph': 3230, 'four': 1880, 'occupy': 3096, 'fun': 1911, 'mother': 2943, 'children': 848, 'travel': 4615, '1000': 2, 'miles': 2869, '38': 70, 'florida': 1836, 'park': 3235, 'protests': 3531, 'dramatic': 1441, 'photos': 3326, 'police': 3371, 'manhattan': 2772, 'yesterday': 4983, 'flying': 1839, 'admitted': 184, 'leaving': 2611, 'blocking': 613, 'road': 3873, 'near': 3002, 'stock': 4287, 'officers': 3113, 'reported': 3758, 'charged': 833, 'arrest': 400, 'conduct': 1003, 'vehicles': 4763, 'refused': 3692, 'saidthe': 3929, '17': 12, 'long': 2699, 'island': 2408, 'native': 2993, 'camp': 729, 'protesters': 3529, 'enemy': 1557, 'crowd': 1169, 'use': 4741, 'free': 1891, '300': 61, 'dozens': 1438, 'elsewhere': 1525, 'charges': 834, 'daily': 1195, 'mom': 2920, 'family': 1726, 'sued': 4353, 'city': 877, 'innocent': 2323, 'victim': 4776, 'somebody': 4174, 'hair': 2050, '42': 75, 'attorneys': 454, 'opening': 3138, 'blocked': 612, 'traffic': 4600, 'november': 3070, 'protest': 3527, 'cops': 1097, 'she': 4082, 'allegedly': 270, 'tried': 4628, 'escape': 1597, 'finally': 1797, 'moved': 2948, 'ny': 3079, 'radical': 3599, 'who': 4904, 'kids': 2519, 'nyc': 3080, 'plays': 3355, 'card': 757, 'jon': 2465, 'furious': 1921, 'launched': 2581, 'congressional': 1022, 'northern': 3059, 'atlanta': 438, 'urging': 4736, 'speaks': 4208, 'moderate': 2914, 'consensus': 1028, 'rarely': 3623, 'name': 2979, 'local': 2690, 'development': 1333, 'cutting': 1190, 'spending': 4218, 'race': 3593, 'expensive': 1659, 'contest': 1056, 'history': 2154, 'headed': 2096, 'tight': 4548, 'finish': 1808, 'tuesdays': 4653, 'republicans': 3774, 'already': 284, 'offer': 3107, 'democrats': 1282, 'swing': 4409, 'districts': 1393, 'majority': 2756, 'representatives': 3766, 'send': 4026, 'strong': 4317, 'message': 2851, 'across': 148, 'country': 1123, 'kinds': 2528, 'representative': 3765, 'dan': 1203, 'michigan': 2861, 'campaigned': 731, 'outcome': 3181, 'conditions': 1002, 'seem': 4011, 'nationwide': 2992, 'historically': 2153, 'unpopular': 4719, 'obstruction': 3089, 'largely': 2566, 'lost': 2717, 'earlier': 1474, 'conservative': 1031, 'double': 1432, 'failure': 1713, 'carried': 767, 'point': 3366, 'killer': 2522, 'struggled': 4324, 'develop': 1330, 'were': 4889, 'state': 4260, 'races': 3594, 'chambers': 818, '33': 65, 'governors': 1996, 'offices': 3114, 'nearly': 3004, 'progressives': 3495, 'wing': 4926, 'appeared': 362, 'increasingly': 2284, 'vulnerable': 4822, 'touch': 4581, 'americans': 299, 'quickly': 3585, 'antitrump': 340, 'activists': 157, 'pushed': 3567, 'rivals': 3869, 'nonpartisan': 3053, 'primary': 3455, 'represented': 3767, 'staffer': 4241, 'documentary': 1408, 'fell': 1769, 'short': 4099, 'forcing': 1858, 'closely': 906, 'watched': 4854, 'seat': 3989, 'tom': 4567, 'price': 3449, 'secretary': 3996, 'services': 4052, 'elected': 1512, '2004': 28, 'fundraising': 1917, '24': 54, 'amount': 304, 'outside': 3191, 'groups': 2023, 'difference': 1344, 'behalf': 550, 'total': 4579, 'approached': 375, '40': 72, 'previous': 3447, 'record': 3667, '30': 60, 'benefits': 565, 'avoided': 472, 'referendum': 3680, 'promises': 3501, 'plans': 3346, 'protect': 3522, 'particularly': 3243, 'cut': 1188, 'priorities': 3462, 'demanding': 1277, 'resistance': 3797, 'concerned': 990, 'accountability': 134, 'concerns': 992, 'administration': 177, 'grown': 2026, 'folks': 1844, 'deliver': 1272, 'higher': 2133, 'quality': 3577, 'life': 2654, 'argued': 389, 'values': 4755, 'experience': 1660, 'best': 573, 'serve': 4047, 'hes': 2126, 'trying': 4649, 'something': 4177, 'nancy': 2982, 'restaurant': 3814, 'pelosi': 3278, 'featured': 1753, 'attack': 440, 'some': 4173, 'anderson': 313, 'retired': 3823, 'worker': 4952, 'sounds': 4191, 'american': 298, 'express': 1677, 'employee': 1539, 'tucker': 4651, 'typically': 4674, 'forth': 1870, 'ive': 2425, 'voted': 4815, 'clintons': 901, 'backing': 486, 'mostly': 2941, 'care': 759, 'area': 385, 'visited': 4804, 'raise': 3602, 'watching': 4855, 'criticized': 1162, 'forced': 1856, 'failed': 1710, 'failing': 1711, 'hollywood': 2165, 'vs': 4821, 'edge': 1492, 'heading': 2097, 'showing': 4107, 'diverse': 1395, 'strategist': 4303, 'johnson': 2459, 'model': 2913, 'needs': 3009, 'done': 1425, 'good': 1983, 'doesnt': 1412, 'wrong': 4973, 'day': 1214, 'look': 2704, 'path': 3263, 'modern': 2915, 'culture': 1179, 'far': 1730, 'technology': 4457, 'contact': 1050, 'seemingly': 4013, 'anything': 347, 'words': 4949, 'great': 2010, 'golden': 1978, 'globe': 1969, 'joy': 2477, 'actress': 162, 'forget': 1862, 'particular': 3242, 'surrounding': 4391, 'begins': 548, 'ask': 414, 'winner': 4927, 'cuts': 1189, 'live': 2681, 'continuing': 1063, 'mentioned': 2847, 'drove': 1462, 'home': 2167, 'now': 3071, 'attention': 451, 'available': 468, 'answer': 333, 'certainly': 807, 'pointing': 3368, 'schumer': 3970, 'announcing': 328, 'phones': 3323, 'cell': 799, 'basic': 522, 'skills': 4143, 'known': 2539, 'don': 1419, 'call': 719, 'heart': 2109, 'guilty': 2037, 'remember': 3739, 'perfectly': 3294, 'happening': 2068, 'eyes': 1695, 'mobile': 2910, 'devices': 1335, 'variety': 4757, 'january': 2433, '11': 5, 'whats': 4895, 'viral': 4796, 'gun': 2040, 'despite': 1315, 'written': 4972, 'orlando': 3174, 'massacre': 2798, 'voting': 4819, 'owners': 3205, 'rights': 3858, 'extremely': 1689, 'young': 4987, 'their': 4502, 'child': 847, 'grand': 2002, 'future': 1923, 'generations': 1947, 'lives': 2683, 'grow': 2024, 'decisions': 1239, 'barely': 513, 'hide': 2130, 'bathroom': 525, 'standing': 4251, 'harder': 2073, 'remain': 3734, 'quiet': 3586, 'extended': 1682, 'letting': 2635, 'foot': 1851, 'door': 1429, 'took': 4572, 'old': 3125, 'then': 4505, 'drills': 1451, 'why': 4908, 'worry': 4961, 'violence': 4794, 'school': 3967, 'anywhere': 349, 'prompted': 3506, '100': 1, 'crime': 1152, 'helps': 2120, '50': 83, 'knows': 2540, 'unless': 4714, 'earth': 1478, 'background': 485, 'checks': 841, 'where': 4898, 'registration': 3705, 'high': 2132, 'capacity': 750, 'sold': 4163, 'military': 2872, 'is': 2403, 'necessary': 3006, 'hunt': 2214, 'smart': 4152, 'guns': 2042, 'tend': 4471, 'nra': 3072, 'measures': 2826, 'criminals': 1156, 'terrorists': 4484, 'degree': 1264, 'tough': 4582, 'longstanding': 2701, 'disputes': 1387, 'effective': 1500, 'correct': 1107, 'reason': 3645, 'rather': 3626, 'sound': 4190, 'solution': 4168, 'ideas': 2223, 'table': 4417, 'voices': 4813, 'shootings': 4097, 'happened': 2067, 'full': 1909, 'belowfeatured': 562, 'moscow': 2938, 'shield': 4086, 'built': 693, 'foreign': 1860, 'soil': 4162, 'key': 2515, 'problem': 3473, 'russia': 3919, 'china': 849, 'sergei': 4042, 'lavrov': 2584, 'addressing': 175, 'international': 2365, 'conference': 1007, 'nuclear': 3074, 'weapons': 4867, 'deployed': 1297, 'europe': 1613, 'returned': 3826, 'territory': 4480, 'russias': 3922, 'smith': 4153, 'resigned': 3795, 'looked': 2705, 'forward': 1872, 'son': 4181, 'plan': 3340, 'unveiled': 4723, 'explosive': 1671, 'ban': 500, 'civil': 878, 'muslim': 2971, 'advocates': 203, 'successful': 4345, 'joining': 2462, 'fighting': 1784, 'colleagues': 925, 'led': 2614, 'fast': 1736, 'signed': 4119, 'less': 2629, 'moving': 2953, 'roles': 3884, 'george': 1949, 'bush': 705, 'unprecedented': 4720, 'quick': 3584, 'moves': 2951, 'aggressive': 231, 'authority': 465, 'challenges': 815, 'faced': 1698, 'fights': 1785, 'presidency': 3432, 'besides': 572, 'jumped': 2489, 'eric': 1594, 'holder': 2161, 'legislature': 2626, 'challenging': 816, 'environmental': 1582, 'regulations': 3710, 'acting': 151, 'helping': 2119, 'hawaii': 2093, 'revised': 3842, 'influential': 2310, 'prosecutor': 3517, '45': 78, 'jobs': 2456, 'resign': 3793, 'reject': 3718, 'notion': 3068, 'efforts': 1504, 'credit': 1149, 'transition': 4611, 'hardline': 2074, 'theres': 4510, 'unique': 4705, 'democracy': 1279, 'constitution': 1044, 'community': 967, 'worked': 4951, 'religious': 3732, 'discrimination': 1371, 'ethics': 1609, 'ambassador': 294, 'republic': 3770, 'expected': 1655, 'focus': 1841, 'tank': 4430, 'emergency': 1532, 'constitutional': 1045, 'responsibility': 3811, 'watchdog': 4853, 'violations': 4793, 'other': 3175, 'founded': 1877, 'defense': 1259, 'career': 760, 'normally': 3057, 'oppose': 3151, 'lgbt': 2640, 'strategy': 4304, 'advocacy': 201, 'named': 2980, 'sessions': 4055, 'alabama': 254, 'senator': 4024, 'knew': 2535, 'chance': 820, 'preserve': 3431, 'hard': 2072, 'fight': 1781, 'promised': 3500, 'communications': 964, 'embarrassing': 1528, 'stupid': 4334, 'caught': 786, 'fifth': 1780, 'coming': 946, 'here': 2123, 'british': 674, 'star': 4254, 'schedule': 3963, '27': 57, 'dream': 1445, 'reach': 3629, 'gets': 1954, 'worse': 4962, 'angry': 320, 'gas': 1934, 'false': 1722, 'apologized': 354, 'tweet': 4664, 'factory': 1707, 'israel': 2412, 'goals': 1973, 'potus': 3408, 'trip': 4633, 'promote': 3503, 'possibility': 3399, 'matthew': 2808, '22': 52, 'idea': 2222, 'turns': 4662, 'brown': 685, 'pretty': 3443, 'peace': 3276, 'scheme': 3965, 'things': 4516, 'minor': 2887, 'yes': 4982, 'add': 168, 'eight': 1507, 'pattern': 3270, 'detail': 1320, 'string': 4315, 'reference': 3679, 'boss': 640, 'middle': 2862, 'east': 1482, 'size': 4141, 'little': 2680, 'weekend': 4876, 'not': 3060, 'numbers': 3076, 'compared': 970, 'march': 2780, 'against': 223, 'pathetic': 3264, 'almost': 280, 'sworn': 4411, 'opponents': 3148, 'confirmation': 1011, 'hearing': 2107, 'rep': 3746, 'mike': 2868, 'mulvaney': 2963, 'management': 2767, 'budget': 689, 'everyone': 1625, '2009': 33, 'room': 3891, 'admit': 182, 'bigger': 583, 'tied': 4546, 'sure': 4384, 'raising': 3605, 'simple': 4127, 'wants': 4839, 'embrace': 1530, 'beautiful': 536, 'facts': 1708, 'brilliant': 669, 'accountable': 135, 'chip': 852, 'getty': 1956, 'forces': 1857, 'mock': 2911, 'him': 2144, 'was': 4849, 'rightwing': 3859, 'kenya': 2510, 'listen': 2675, 'trucks': 4639, 'village': 4787, 'missing': 2899, 'idiot': 2229, 'color': 934, 'ago': 232, 'economy': 1490, 'lay': 2593, 'waste': 4851, 'banks': 506, 'worst': 4963, 'halt': 2055, 'construction': 1046, 'industries': 2304, 'value': 4754, 'mortgage': 2937, 'from': 1902, 'marked': 2787, 'second': 3993, 'trading': 4596, 'celebrating': 796, 'oil': 3121, 'prices': 3450, 'profits': 3490, 'sectors': 4000, 'rising': 3865, 'closing': 909, 'assume': 435, 'asset': 427, 'investments': 2385, 'market': 2788, 'tonight': 4570, 'cruz': 1174, 'kasich': 2501, 'rhetoric': 3846, 'losses': 2716, 'reverse': 3837, 'everything': 1626, 'delegates': 1269, 'respect': 3804, 'deserves': 1309, 'dignity': 1349, 'oversees': 3199, 'becoming': 542, 'willing': 4920, 'activities': 158, 'turning': 4660, 'facility': 1701, 'fit': 1819, 'aside': 413, 'various': 4758, 'scandals': 3955, 'book': 633, 'issue': 2414, 'longtime': 2703, 'personal': 3307, 'dr': 1439, 'lisa': 2672, 'letter': 2633, 'wrote': 4975, 'drugs': 1464, 'products': 3485, 'rich': 3849, 'exercises': 1643, 'regularly': 3708, 'walking': 4831, 'weight': 4879, 'training': 4607, 'blood': 615, 'brain': 650, 'suffered': 4355, 'hardly': 2075, 'detailed': 1321, 'medical': 2830, 'troubling': 4637, 'hands': 2064, 'candidacy': 742, 'major': 2755, 'incidents': 2273, 'collapsed': 924, 'benghazi': 566, 'walked': 4829, 'waiting': 4826, 'car': 755, 'arms': 397, 'aides': 242, 'continue': 1060, 'maintain': 2752, 'huma': 2207, 'abedin': 110, 'deputy': 1302, 'closest': 908, 'adviser': 197, 'frequently': 1896, 'orders': 3163, 'catch': 782, 'explain': 1665, 'hours': 2193, 'appearance': 361, 'capable': 749, 'source': 4192, 'telling': 4465, 'only': 3134, 'taxpayer': 4443, 'funded': 1914, 'air': 247, 'campaigning': 732, 'putin': 3570, 'castro': 778, 'cuba': 1176, 'paying': 3273, 'crooked': 1165, 'company': 969, 'purchase': 3561, 'research': 3786, 'manage': 2765, 'ultimately': 4680, 'space': 4200, 'attempted': 445, 'build': 690, 'assistance': 429, 'soviet': 4199, 'collapse': 923, 'cuban': 1177, 'project': 3496, 'cost': 1111, 'estimates': 1608, 'range': 3612, 'consistently': 1039, 'opposed': 3152, 'recently': 3657, 'relations': 3721, 'caller': 721, 'campaigns': 733, 'taxes': 4442, 'set': 4056, 'benefit': 564, 'rate': 3624, 'families': 1725, 'tax': 4441, 'center': 800, 'effects': 1502, 'typical': 4673, 'howard': 2201, 'fellow': 1770, 'nonprofit': 3054, 'equal': 1587, 'wealthy': 4865, 'income': 2278, 'estimated': 1607, '39': 71, 'changes': 825, 'officially': 3116, 'affordable': 210, 'domestic': 1417, 'portion': 3392, 'eliminate': 1521, '600': 94, 'revenues': 3836, 'decade': 1232, 'adopted': 186, 'vowed': 4820, 'lower': 2727, 'overhaul': 3197, 'code': 918, '2018': 45, 'reduce': 3674, '2017': 42, 'speaker': 4206, 'paul': 3271, 'ryan': 3923, 'immediate': 2246, 'defended': 1257, 'replacement': 3754, 'choices': 854, 'costs': 1112, 'lowincome': 2729, '20': 22, 'previously': 3448, 'medicaid': 2829, 'poor': 3385, 'expense': 1657, 'subsidies': 4341, 'investment': 2384, 'medicare': 2831, 'return': 3825, 'taxpayers': 4444, 'joint': 2463, 'report': 3757, 'analysis': 307, 'data': 1208, 'addition': 171, 'hospital': 2182, 'repealing': 3748, 'employers': 1541, 'providers': 3540, 'insurers': 2343, 'fully': 1910, 'study': 4330, 'became': 537, 'rival': 3868, 'pull': 3554, 'welcomed': 4883, 'opponent': 3147, 'adult': 188, 'web': 4871, 'videos': 4780, 'designed': 1311, 'voter': 4816, 'material': 2803, 'how': 2200, 'socalled': 4157, 'claimed': 882, 'member': 2839, 'historic': 2151, 'attacking': 442, 'toxic': 4592, 'takes': 4423, 'word': 4948, 'tv': 4663, 'rid': 3853, 'zones': 4998, 'schools': 3968, 'parenthood': 3232, 'building': 691, 'mexico': 2856, 'border': 637, 'banning': 508, 'pushing': 3568, 'im': 2242, 'nominating': 3048, 'stands': 4253, 'chosen': 858, 'disabled': 1361, 'immigrants': 2249, 'condemn': 998, 'kkk': 2532, 'fall': 1718, 'require': 3779, 'avoid': 471, 'will': 4917, 'most': 2940, 'inc': 2271, 'ended': 1549, 'consulting': 1047, 'rick': 3851, 'gates': 1935, 'aide': 241, 'spokesman': 4225, 'indicted': 2298, 'robert': 3876, 'mueller': 2959, 'counsel': 1116, 'appointed': 371, 'investigate': 2377, 'effort': 1503, 'pleaded': 3357, 'david': 1212, 'associate': 431, 'manafort': 2764, 'continued': 1061, 'august': 459, 'founder': 1878, 'thomas': 4522, 'jr': 2478, 'inaugural': 2269, 'identified': 2224, 'ends': 1555, 'follow': 1845, 'pact': 3213, 'climate': 899, 'briefed': 665, 'carbon': 756, 'emissions': 1534, 'coal': 914, 'plants': 3348, 'electricity': 1517, 'natural': 2995, 'energy': 1558, 'lowest': 2728, 'factbox': 1704, 'ordinary': 3164, 'proud': 3533, 'veterans': 4771, 'breach': 655, 'navy': 2998, 'veteran': 4770, 'tim': 4550, 'guard': 2029, 'kentucky': 2509, 'terrorist': 4483, 'murdered': 2966, 'armed': 396, 'guards': 2031, 'centers': 801, 'pentagon': 3286, 'changing': 826, 'carrying': 770, 'dead': 1218, 'soldiers': 4165, 'protected': 3523, 'arm': 395, 'gateway': 1936, 'pundit': 3557, 'defending': 1258, 'wont': 4947, 'down': 1436, 'ties': 4547, 'started': 4257, 'absence': 117, 'turkey': 4655, 'prosecutors': 3518, 'plot': 3362, 'ankara': 322, 'gold': 1977, 'sanctions': 3935, 'iran': 2394, 'dropped': 1460, 'suggest': 4358, 'plea': 3356, 'deal': 1221, 'authorities': 464, 'benjamin': 567, 'executives': 1641, 'turkish': 4656, 'engaging': 1564, 'transactions': 4608, 'dollars': 1416, 'iranian': 2395, 'entities': 1578, '2010': 34, '2015': 39, 'remains': 3737, 'accused': 141, 'receiving': 3655, 'tens': 4473, 'acted': 150, 'comply': 984, 'tayyip': 4446, 'erdogan': 1593, 'tensions': 4475, 'nato': 2994, 'allies': 274, 'hit': 2155, 'investor': 2386, 'sentiment': 4036, 'toward': 4587, 'contributed': 1071, 'defendants': 1256, 'network': 3025, 'supply': 4372, 'currency': 1182, 'violating': 4791, 'involved': 2390, 'violated': 4790, 'laws': 2588, 'exports': 1673, 'basis': 524, 'hearings': 2108, 'month': 2929, 'miami': 2857, 'essentially': 1600, 'appearing': 363, 'pressure': 3440, 'sensitive': 4031, '16': 11, '2013': 37, 'discussed': 1374, 'buy': 711, 'establish': 1602, 'explained': 1666, 'mr': 2954, 'wrongdoing': 4974, 'repeatedly': 3751, 'expressed': 1678, 'frustration': 1906, 'manager': 2768, 'crimes': 1154, 'citizen': 874, 'informant': 2312, 'speech': 4213, 'apparent': 356, 'sees': 4016, 'hand': 2058, 'gulen': 2038, 'accuses': 142, 'coup': 1127, 'driving': 1457, 'involving': 2392, 'involvement': 2391, 'prosecution': 3516, 'leaked': 2603, 'removed': 3743, 'investigators': 2383, 'attempt': 444, 'undermine': 4691, 'cases': 775, 'exactly': 1631, 'extent': 1685, 'institutions': 2338, 'judiciary': 2485, 'ridiculous': 3854, 'kim': 2525, 'handled': 2062, 'adding': 170, 'denies': 1290, 'attempts': 447, 'kurdish': 2548, 'fighters': 1783, 'syria': 4413, 'visa': 4800, 'employed': 1538, 'istanbul': 2417, 'highlighted': 2135, 'newspaper': 3032, 'unnamed': 4717, 'billions': 591, 'investors': 2387, 'shares': 4076, 'fallen': 1719, '13': 7, 'decline': 1244, 'broader': 678, 'jury': 2492, 'meaning': 2821, 'begin': 546, 'early': 1475, 'feeling': 1763, 'knowing': 2537, 'fence': 1774, 'wonder': 4945, 'isis': 2404, 'bernie': 571, 'sanders': 3937, 'leftist': 2617, 'focused': 1842, 'entitled': 1579, 'phony': 3324, 'crossing': 1168, 'drug': 1463, 'scale': 3952, 'bring': 670, 'trouble': 4636, 'homeland': 2168, 'page': 3214, 'radio': 3600, 'outlet': 3183, 'large': 2565, 'marijuana': 2784, 'texas': 4492, 'confirmed': 1012, 'south': 4194, 'borders': 638, 'ben': 563, 'carson': 772, 'hopeful': 2176, 'areas': 386, 'breitbart': 659, 'west': 4890, 'location': 2692, 'feet': 1767, 'shocking': 4093, 'giant': 1957, 'backs': 488, 'verified': 4766, 'returns': 3828, 'claiming': 883, 'does': 1411, 'anybody': 344, 'heard': 2106, 'leak': 2602, 'especially': 1598, 'reporting': 3762, 'earned': 1476, 'nature': 2996, 'paid': 3216, 'tony': 4571, '2017realdonaldtrump': 43, 'kevin': 2514, 'else': 1524, 'client': 897, 'copy': 1098, 'theyre': 4514, 'jordan': 2469, 'thats': 4499, 'didnt': 1341, 'miller': 2875, 'positive': 3397, 'combined': 938, 'bed': 543, 'hotel': 2190, 'over': 3194, 'tweets': 4667, 'super': 4370, 'anthem': 336, 'sunday': 4368, 'game': 1928, 'strongly': 4320, '25': 55, 'unable': 4682, 'night': 3039, 'share': 4074, 'thoughts': 4526, 'feelings': 1764, 'be': 530, 'wish': 4932, 'divided': 1398, 'sitting': 4137, 'closed': 905, 'appreciate': 373, 'diversity': 1396, 'throughout': 4537, 'league': 2601, 'equality': 1588, 'solidarity': 4167, 'protecting': 3524, 'freedom': 1892, 'keeping': 2503, 'god': 1974, 'spoke': 4223, 'nfl': 3035, 'perform': 3295, 'anthony': 337, 'scaramucci': 3956, 'bbc': 529, 'presidentelect': 3434, 'stance': 4247, 'concert': 993, 'mall': 2762, 'added': 169, 'broadcast': 676, 'responded': 3807, 'gay': 1940, 'activist': 156, 'performed': 3297, 'rocket': 3879, 'tiny': 4554, 'permission': 3301, 'music': 2970, 'endorsement': 1553, 'respond': 3806, 'meanwhile': 2824, 'virtually': 4798, 'roberts': 3877, 'supreme': 4383, 'hacked': 2046, 'deep': 1249, 'surveillance': 4392, 'operation': 3142, 'cia': 867, 'brennan': 660, 'murray': 2968, 'billionaire': 590, 'explaining': 1667, 'clapper': 885, 'joe': 2457, 'existence': 1645, 'wikileaks': 4914, 'nsa': 3073, 'contractor': 1065, 'gone': 1981, 'spy': 4235, 'gained': 1926, 'immunity': 2251, 'desperately': 1314, 'nunes': 3078, 'lawmakers': 2587, 'computer': 987, 'pulling': 3556, 'targeted': 4435, '18': 13, 'minute': 2890, 'mark': 2786, 'guy': 2043, 'tells': 4466, 'skeptical': 4142, 'allegation': 267, 'context': 1059, 'controversial': 1078, 'demonstrated': 1284, 'targeting': 4436, 'regime': 3699, 'student': 4327, 'korea': 2543, 'died': 1343, 'ohio': 3120, 'death': 1225, '19': 14, 'unknown': 4713, 'parents': 3233, 'virginia': 4797, 'sept': 4040, 'conducted': 1004, 'blamed': 602, 'dismissed': 1381, 'torture': 4578, 'arriving': 405, 'airport': 251, 'pyongyang': 3573, 'prepared': 3426, 'communist': 965, 'traveling': 4618, 'tour': 4584, 'sentenced': 4034, 'labor': 2555, '1994': 18, 'belief': 557, 'broken': 680, 'corruption': 1110, 'mind': 2878, 'frequent': 1895, 'cannot': 745, 'present': 3429, 'exposed': 1675, 'approach': 374, 'poll': 3381, 'expanding': 1651, 'tape': 4431, 'nonsense': 3055, 'google': 1985, 'search': 3987, 'link': 2669, 'small': 4150, 'ideological': 2227, 'roughly': 3897, '32': 64, 'alone': 281, 'peter': 3315, 'currently': 1184, 'strategic': 4302, 'usa': 4739, 'sex': 4067, 'scandal': 3954, 'very': 4769, 'arguing': 390, 'equally': 1589, 'advisor': 199, '2008': 32, 'meet': 2833, 'finished': 1809, 'connection': 1026, 'find': 1802, 'payment': 3274, 'dont': 1428, 'beating': 535, 'khan': 2516, 'soldier': 4164, 'save': 3945, 'dnc': 1403, 'convention': 1080, 'proved': 3535, 'lot': 2718, 'requires': 3783, 'greater': 2011, 'enjoy': 1567, 'born': 639, 'unfair': 4698, 'threw': 4536, 'attacked': 441, 'allowed': 276, 'iraq': 2397, '31': 63, 'course': 1131, 'users': 4744, 'mocked': 2912, 'justin': 2497, 'captured': 754, 'draft': 1440, 'vietnam': 4781, '2016realdonaldtrump': 41, 'charles': 836, 'just': 2493, 'walk': 4828, 'there': 4508, 'welcome': 4882, 'todd': 4561, 'disgusting': 1379, 'should': 4103, 'thing': 4515, 'drop': 1459, 'describes': 1305, 'required': 3780, 'proves': 3537, 'grave': 2009, 'consequences': 1030, 'handed': 2059, 'dad': 1194, 'bombers': 627, 'struck': 4321, 'targets': 4437, 'deir': 1265, 'alzor': 291, 'province': 3543, 'agencies': 225, 'quoted': 3592, 'defence': 1254, 'ministry': 2885, 'base': 518, 'flew': 1829, 'bombing': 628, 'stopped': 4293, 'oregon': 3165, 'militants': 2871, 'kid': 2518, 'town': 4590, 'finicum': 1807, 'truck': 4638, 'killed': 2521, 'scene': 3961, 'extremists': 1692, 'lying': 2735, 'cdata': 792, 'id': 2221, 'js': 2479, 'script': 3982, 'love': 2723, 'liberty': 2646, 'defeat': 1252, 'our': 3178, 'bundy': 698, 'reaction': 3632, 'protesting': 3530, 'posted': 3403, 'shot': 4101, 'ferguson': 1775, 'damage': 1198, 'alternate': 286, 'easy': 1484, 'must': 2974, 'missed': 2896, 'ok': 3122, 'jews': 2448, 'hatred': 2090, 'lived': 2682, 'survive': 4394, 'hate': 2087, 'shooting': 4096, 'opposite': 3155, 'jewish': 2447, 'contrary': 1068, 'push': 3566, 'mine': 2880, 'whites': 4903, 'harm': 2077, 'land': 2561, 'feds': 1760, 'intention': 2355, 'lands': 2563, 'refuge': 3687, 'hostile': 2187, 'occupation': 3094, 'dc': 1216, 'shoot': 4094, 'blacks': 600, 'liberal': 2642, 'patriot': 3267, 'baltimore': 499, 'destroy': 1316, 'burn': 701, 'praise': 3416, 'causing': 790, 'chaos': 829, 'cities': 872, 'obvious': 3092, 'unlike': 4715, 'incredibly': 2286, 'those': 4523, 'skin': 4144, 'militant': 2870, 'oklahoma': 3124, 'pretend': 3442, 'fueled': 1908, 'or': 3159, 'racists': 3598, 'housing': 2196, 'urban': 4731, 'gave': 1939, 'employees': 1540, 'during': 1467, 'referring': 3682, 'african': 215, 'vile': 4786, 'celebrities': 797, 'jackson': 2427, 'gotten': 1990, 'exact': 1630, 'ignorant': 2232, 'slave': 4146, 'ships': 4089, 'lol': 2696, 'christopher': 864, 'being': 554, 'actor': 160, 'makes': 2758, 'again': 222, 'please': 3358, 'account': 133, 'neighbor': 3016, 'somehow': 4175, 'gives': 1965, 'bully': 695, 'cause': 787, 'voice': 4811, 'beginning': 547, 'remarks': 3738, 'alongside': 283, 'ice': 2220, 'blaming': 604, 'hateful': 2088, 'divide': 1397, 'sad': 3925, 'eat': 1485, 'insults': 2341, 'immigrant': 2248, 'mayor': 2814, 'giuliani': 1962, 'designated': 1310, 'event': 1619, 'bizarre': 598, 'insane': 2325, 'tenure': 4476, 'andrew': 314, 'al': 253, 'qaeda': 3574, 'thousands': 4528, '911': 102, 'contrast': 1069, 'bin': 593, 'raid': 3601, 'afghanistan': 212, 'ordered': 3162, 'argue': 388, 'stronger': 4318, 'intense': 2353, 'crackdown': 1140, 'rolling': 3886, 'lie': 2650, 'americas': 300, 'finance': 1798, 'donations': 1424, 'accepted': 126, 'launch': 2580, 'individual': 2300, 'contributions': 1073, '54': 90, 'donors': 1427, 'list': 2673, 'contacted': 1051, 'sector': 3999, 'drawn': 1444, 'reasons': 3647, 'winning': 4928, 'relatively': 3724, 'liberals': 2643, 'jersey': 2442, 'potential': 3406, 'operate': 3140, 'works': 4955, 'limited': 2664, 'happen': 2066, 'bid': 580, 'tapped': 4432, 'outlined': 3185, 'unlikely': 4716, 'totally': 4580, 'spent': 4219, 'crack': 1139, 'josh': 2472, 'ran': 3610, 'period': 3299, 'mitt': 2905, 'maralago': 2779, 'resort': 3802, 'palm': 3224, 'beach': 531, 'pace': 3209, 'vacation': 4752, 'single': 4132, 'burden': 699, 'pain': 3217, 'visits': 4807, 'literally': 2678, 'extra': 1686, 'businesses': 707, 'basically': 523, 'playing': 3354, 'golf': 1980, 'throwing': 4539, 'toll': 4566, 'contractors': 1066, 'massive': 2799, 'jonathan': 2466, 'fears': 1751, 'trips': 4634, 'struggling': 4325, 'pointed': 3367, 'liar': 2641, 'outraged': 3187, 'creating': 1145, 'constant': 1041, 'threatening': 4532, 'screenshot': 3981, 'bias': 577, 'digital': 1348, 'younger': 4988, 'associated': 432, 'foundation': 1876, 'treatment': 4623, 'boston': 641, 'picked': 3330, 'shutdown': 4111, 'investigated': 2378, 'doubts': 1434, 'vice': 4775, 'mrs': 2955, 'once': 3129, 'ap': 350, 'met': 2853, 'cabinet': 715, 'donor': 1426, 'considering': 1036, 'prize': 3470, 'poverty': 3409, 'banking': 504, 'normal': 3056, 'diplomacy': 1351, 'examples': 1633, 'outlets': 3184, 'discovered': 1369, 'engaged': 1562, 'illegally': 2239, 'irs': 2402, 'recall': 3651, 'which': 4900, 'blasted': 607, 'did': 1340, 'cast': 777, 'doubt': 1433, 'illegal': 2238, 'concrete': 997, 'apologize': 353, 'rushed': 3918, 'stage': 4243, 'links': 2671, 'chuck': 865, 'apart': 351, 'secret': 3995, 'sought': 4189, 'followers': 1847, 'stopping': 4294, 'jail': 2428, 'buzzfeed': 713, 'footage': 1852, 'lifted': 2657, 'youtube': 4992, 'headlines': 2099, 'repeat': 3749, 'host': 2184, 'shut': 4110, 'internet': 2367, 'kind': 2527, 'screengrab': 3979, 'has': 2083, 'hoax': 2159, 'wide': 4909, 'open': 3136, 'prison': 3464, 'asian': 412, 'observers': 3088, 'detained': 1323, 'embassy': 1529, '2006': 30, 'term': 4477, 'prisoners': 3465, 'jailed': 2429, 'predecessor': 3421, 'islam': 2405, 'steps': 4282, 'signal': 4117, 'society': 4160, 'resulted': 3819, 'improve': 2264, 'ease': 1479, 'restrictions': 3817, 'writer': 4969, 'faces': 1699, 'contributor': 1074, 'website': 4872, 'arrests': 402, 'mitch': 2904, 'mcconnell': 2818, 'comes': 942, 'prospects': 3520, 'libya': 2647, 'inside': 2326, 'port': 3391, 'peaceful': 3277, 'mohamed': 2917, 'bomb': 626, 'killing': 2523, '200': 23, 'km': 2534, 'imports': 2259, 'zone': 4997, 'places': 3338, 'london': 2697, 'theresa': 4511, 'fundamental': 1913, 'promising': 3502, 'review': 3838, 'needed': 3008, '2019': 46, 'largest': 2568, 'legislative': 2624, 'projects': 3497, 'uk': 4676, 'testing': 4490, 'effectively': 1501, 'parliamentary': 3237, 'leading': 2599, 'split': 4222, 'ministers': 2884, 'concessions': 994, 'technical': 4456, 'strength': 4308, 'views': 4785, 'command': 947, 'intends': 2352, 'existing': 1646, 'sets': 4058, 'critics': 1164, 'unnecessary': 4718, 'risk': 3866, 'uncertainty': 4684, 'protection': 3525, 'treaty': 4624, 'brings': 672, 'handful': 2060, 'contained': 1054, 'leaves': 2610, 'rules': 3909, 'types': 4672, 'treated': 4622, 'test': 4485, 'date': 1209, 'remaining': 3736, 'debates': 1228, 'passage': 3254, 'quit': 3588, 'era': 1592, 'bills': 592, 'hat': 2085, 'players': 3353, 'song': 4182, 'die': 1342, 'disrespect': 1388, 'safety': 3927, 'couple': 1128, 'feels': 1765, 'yeah': 4978, 'football': 1853, 'miss': 2895, 'step': 4278, 'off': 3103, 'frontrunner': 1904, 'ted': 4458, 'favorite': 1743, 'advantage': 193, 'contests': 1058, 'plus': 3363, 'brussels': 687, 'governor': 1995, 'argument': 391, 'eventually': 1621, 'thank': 4496, 'hopefully': 2177, 'justices': 2495, 'proposal': 3513, 'deport': 1299, 'guarantee': 2028, 'track': 4594, 'awarded': 474, 'popular': 3387, 'questioned': 3581, 'church': 866, 'questioning': 3582, 'faith': 1716, 'institute': 2336, 'illinois': 2241, 'neither': 3022, 'trusted': 4646, 'temporary': 4469, 'muslims': 2973, 'entering': 1574, 'neighborhoods': 3018, 'revolution': 3843, 'confidence': 1008, 'beat': 533, 'deny': 1292, 'falls': 1721, 'wins': 4929, 'alaska': 256, 'delegate': 1268, 'marco': 2781, 'rubio': 3906, 'arab': 382, 'emirates': 1533, 'accusations': 139, 'holy': 2166, 'shared': 4075, 'abdullah': 108, 'troops': 4635, 'residents': 3792, 'iraqi': 2398, 'saudi': 3943, 'arabia': 383, 'empire': 1537, 'stolen': 4289, 'items': 2422, 'brought': 684, 'ally': 279, 'friend': 1899, 'opposes': 3153, 'qatar': 3575, 'egypt': 1505, 'imposed': 2261, 'gulf': 2039, 'bashar': 521, 'alassad': 257, 'shame': 4072, 'seeks': 4010, 'pending': 3282, 'condemned': 1000, 'television': 4463, 'wife': 4913, 'emerged': 1531, 'custody': 1185, 'happy': 2070, 'allegations': 268, 'paper': 3227, 'target': 4434, 'remained': 3735, 'third': 4520, 'posts': 3405, 'indictment': 2299, 'western': 4891, 'complained': 975, '50000': 86, '150': 10, 'association': 434, 'socialist': 4159, 'type': 4671, 'suggests': 4362, 'wealth': 4864, '29': 59, 'professor': 3487, 'campus': 735, 'saw': 3948, 'inflation': 2308, 'unemployment': 4697, 'competition': 972, 'learning': 2607, 'effect': 1499, 'regulation': 3709, 'section': 3998, 'steven': 4284, 'perspective': 3312, 'concept': 988, 'teach': 4448, 'definition': 1263, 'fine': 1806, 'sentence': 4033, 'serving': 4053, 'tip': 4555, 'anonymous': 331, 'wow': 4967, 'photo': 3325, 'anniversary': 324, 'learned': 2606, 'prove': 3534, 'hired': 2146, 'confirms': 1013, 'murder': 2965, 'ten': 4470, 'either': 1508, 'straight': 4300, 'eye': 1694, 'highly': 2137, 'deaths': 1226, 'sometimes': 4178, 'theft': 4501, 'scenes': 3962, 'ruled': 3908, 'analyst': 308, 'neighborhood': 3017, 'except': 1634, 'shortly': 4100, 'philadelphia': 3318, 'revealed': 3832, 'prevent': 3444, 'leaks': 2604, 'loss': 2715, 'russians': 3921, 'hacking': 2048, 'podesta': 3365, 'definitely': 1262, 'suspected': 4397, 'feb': 1755, 'dallas': 1197, 'hampshire': 2057, 'seth': 4057, 'surely': 4385, 'streets': 4307, 'listed': 2674, 'exclusive': 1638, 'individuals': 2301, 'foster': 1873, 'partner': 3247, 'connections': 1027, '1993': 17, 'mouth': 2946, 'suicide': 4363, 'concluded': 995, '2003': 27, 'challenged': 814, 'insisting': 2330, 'stories': 4297, 'pursuing': 3565, 'entered': 1573, '2005': 29, 'remove': 3742, 'february': 1756, 'theories': 4506, 'books': 634, 'piece': 3334, 'uncovered': 4688, 'witness': 4939, 'resignation': 3794, 'luther': 2733, 'jerry': 2441, 'headquarters': 2100, 'rock': 3878, 'arkansas': 394, 'window': 4925, 'turned': 4659, 'gary': 1933, 'fort': 1869, 'river': 3870, 'interviewed': 2370, 'packed': 3212, 'rounds': 3900, 'witnesses': 4940, 'suspicious': 4403, 'ignored': 2234, 'alive': 265, 'testified': 4487, '28': 58, '1998': 20, 'spotlight': 4231, 'physical': 3328, 'afraid': 213, 'tragedy': 4602, 'oath': 3081, 'knowledge': 2538, 'dangerous': 1205, 'activity': 159, 'meetings': 2835, 'bodies': 622, 'affairs': 206, 'divorce': 1402, 'married': 2792, 'boy': 646, 'prepare': 3425, 'dossier': 1431, 'returning': 3827, 'timing': 4553, 'circle': 868, 'pat': 3262, 'film': 1795, '1990s': 16, 'realize': 3642, 'arrived': 404, 'regular': 3707, 'apartment': 352, 'complex': 981, 'discuss': 1373, 'trafficking': 4601, 'boys': 648, 'developed': 1331, 'gathered': 1937, 'visiting': 4805, 'stayed': 4273, 'kicked': 2517, 'scared': 3958, 'fled': 1826, 'recognized': 3663, 'gov': 1991, 'planning': 3345, 'ii': 2236, 'scheduled': 3964, 'completed': 979, 'debbie': 1229, 'schultz': 3969, 'rigged': 3856, 'complaint': 976, 'ann': 323, 'fields': 1778, 'manner': 2774, 'committed': 958, 'scott': 3976, 'kaine': 2499, 'nations': 2991, 'assembly': 425, 'un': 4681, 'chinese': 851, 'owner': 3204, 'linked': 2670, 'williams': 4919, 'sun': 4367, 'site': 4135, 'scotland': 3975, 'locked': 2694, 'crossed': 1167, 'stood': 4291, 'lunch': 2732, 'counter': 1118, 'backlash': 487, 'politician': 3376, 'dozen': 1437, 'stake': 4245, 'joined': 2461, 'train': 4605, 'ugly': 4675, 'sat': 3941, 'heat': 2110, 'supports': 4378, 'migrant': 2865, 'gang': 1930, 'migrants': 2866, 'mainly': 2750, 'hungary': 2213, 'austria': 462, 'controls': 1077, 'middleeast': 2863, 'sudan': 4349, 'industrial': 2303, '21wire': 50, 'patrick': 3266, 'henningsen': 2121, 'alarm': 255, 'amnesty': 302, 'charity': 835, 'danger': 1204, 'conflicts': 1015, 'addressed': 174, 'serious': 4045, 'internationally': 2366, 'worldwide': 4959, 'check': 840, 'subscribe': 4339, 'msnbc': 2957, 'panel': 3225, 'woman': 4942, 'seemed': 4012, 'ceremony': 805, 'rose': 3894, 'anger': 318, 'hot': 2189, 'water': 4856, 'christmas': 863, 'anchor': 311, 'outrageous': 3188, 'her': 2122, 'exxon': 1693, 'corp': 1102, 'consumer': 1048, 'fuel': 1907, 'louisiana': 2722, 'wisconsin': 4931, 'brief': 664, 'supporting': 4377, 'massachusetts': 2797, 'burning': 703, 'resolve': 3800, 'settled': 4061, 'magazine': 2744, 'pruitt': 3547, 'scientists': 3973, 'warming': 4841, 'overwhelming': 3201, 'sea': 3985, 'level': 2636, 'silence': 4124, 'appropriate': 376, 'settlement': 4062, 'risks': 3867, 'pursue': 3564, 'fraud': 1890, 'delay': 1266, 'corporation': 1104, 'unconstitutional': 4687, 'roy': 3903, 'moore': 2932, 'samesex': 3933, 'marriage': 2791, 'judges': 2482, 'couples': 1129, 'chose': 857, 'ending': 1550, 'opinions': 3146, 'greg': 2016, 'refusal': 3690, 'noting': 3067, 'ignoring': 2235, 'rulings': 3911, 'bible': 579, 'referred': 3681, 'acknowledged': 146, 'significant': 4120, 'christians': 861, 'bigotry': 586, 'flickr': 1830, 'martin': 2793, 'surprise': 4387, 'daca': 1193, 'undocumented': 4696, 'deportation': 1300, 'alien': 263, 'protections': 3526, 'serves': 4050, 'unilateral': 4702, 'surge': 4386, 'humanitarian': 2209, 'allowing': 277, 'aliens': 264, 'appeal': 358, 'otherwise': 3177, 'dog': 1413, 'increased': 2281, 'qualified': 3576, 'implementation': 2255, 'theory': 4507, 'boost': 636, 'tune': 4654, 'revenue': 3835, 'alex': 260, 'impact': 2252, 'heated': 2111, 'reducing': 3676, 'migration': 2867, 'figures': 1787, 'interior': 2363, '100000': 4, 'rates': 3625, 'contribute': 1070, 'limit': 2663, 'export': 1672, 'topic': 4576, 'expansion': 1652, 'eastern': 1483, 'jump': 2488, 'hospitals': 2183, 'acknowledge': 145, 'contribution': 1072, 'studies': 4329, 'quarter': 3578, 'statistics': 4269, 'nationals': 2990, 'visas': 4801, 'commitment': 956, 'lewis': 2639, 'abuse': 121, 'increasing': 2283, 'inequality': 2306, 'award': 473, 'bet': 574, 'awards': 475, 'organizers': 3169, 'teachers': 4450, 'system': 4415, 'learn': 2605, 'understanding': 4693, 'petition': 3316, 'personality': 3308, 'rant': 3616, 'doctor': 1405, 'inspired': 2332, 'programs': 3492, 'advocate': 202, 'gender': 1942, 'ratings': 3628, 'produced': 3481, 'episode': 1586, 'kerry': 2513, 'character': 831, 'abortion': 113, 'blm': 609, 'fought': 1874, 'allow': 275, 'brothers': 683, 'attend': 448, 'tradition': 4597, 'wake': 4827, 'generation': 1946, 'combat': 937, 'purpose': 3562, 'newly': 3030, 'friendly': 1900, 'everywhere': 1627, 'brotherhood': 682, 'mention': 2846, 'davis': 1213, 'writes': 4970, 'rebel': 3648, 'blog': 614, 'los': 2711, 'angeles': 317, 'cheap': 839, 'army': 398, 'club': 911, 'drew': 1449, 'japanese': 2435, 'corps': 1106, 'revolutionary': 3844, 'allen': 271, 'starting': 4258, 'tomorrow': 4568, 'organized': 3168, 'patriots': 3268, 'interfere': 2361, 'shall': 4071, 'riots': 3862, 'property': 3512, 'amendment': 295, 'attending': 450, 'pledged': 3360, 'patrol': 3269, 'expects': 1656, 'substantial': 4342, 'pm': 3364, 'holiday': 2164, 'provide': 3538, 'soros': 4186, 'thugs': 4541, 'separately': 4039, 'prince': 3457, 'mohammed': 2919, 'salman': 3932, 'unity': 4710, 'partners': 3248, 'essential': 1599, 'promoting': 3505, 'regional': 3701, 'stability': 4238, 'commitments': 957, 'riyadh': 3871, 'summit': 4366, 'extremist': 1691, 'ideology': 2228, 'dispute': 1385, 'diplomatic': 1353, 'region': 3700, 'friends': 1901, 'bullying': 696, 'banned': 507, 'specifically': 4211, 'bunch': 697, 'upper': 4728, 'red': 3673, 'commit': 955, 'acts': 163, 'terror': 4481, 'chris': 859, 'organizations': 3167, 'militias': 2874, 'deleted': 1271, 'them': 4503, 'administrations': 178, 'audience': 455, 'neil': 3021, 'gorsuch': 1988, 'courts': 1133, 'eligible': 1520, 'graphic': 2006, 'generally': 1944, 'francisco': 1886, 'upon': 4727, 'changed': 824, 'warrant': 4846, 'upcoming': 4725, 'importance': 2257, 'terms': 4478, 'shape': 4073, 'electoral': 1515, 'republicanled': 3773, 'december': 1234, 'christian': 860, 'beliefs': 558, 'refusing': 3694, 'colorado': 935, 'transgender': 4610, 'liberties': 2645, 'canceled': 740, 'arguments': 392, 'muslimmajority': 2972, 'board': 619, 'employment': 1542, 'bringing': 671, 'collective': 928, 'unions': 4704, '44': 77, 'onto': 3135, 'negotiations': 3014, 'round': 3899, 'minutes': 2891, 'sufficient': 4357, 'progress': 3493, 'mandate': 2770, 'phase': 3317, 'delivering': 1274, 'england': 1565, 'secure': 4001, 'departure': 1296, 'chair': 811, 'contacts': 1052, 'crucial': 1172, 'disrupt': 1389, 'markets': 2789, 'juncker': 2490, 'negotiator': 3015, 'relief': 3730, 'guidelines': 2036, 'proceed': 3477, 'german': 1951, 'chancellor': 821, 'angela': 316, 'merkel': 2849, 'mean': 2820, 'tougher': 4583, 'experienced': 1661, 'gains': 1927, 'irish': 2400, 'impossible': 2263, 'ireland': 2399, 'aims': 246, 'both': 642, 'sides': 4115, 'demonstrate': 1283, 'reiterated': 3717, 'accord': 131, 'canada': 737, 'text': 4493, 'launching': 2582, 'aimed': 245, 'ensuring': 1571, 'precedent': 3420, 'ensure': 1570, 'obligations': 3087, 'japan': 2434, 'legally': 2622, 'loses': 2713, 'negotiated': 3012, 'dutch': 1468, 'traditionally': 4599, 'customs': 1187, 'rome': 3887, 'euro': 1612, 'finances': 1799, 'lobby': 2687, 'fiscal': 1818, 'threatens': 4533, 'deficit': 1260, 'gross': 2019, 'product': 3483, 'opportunity': 3150, 'station': 4267, 'italian': 2419, 'leadership': 2598, 'interviews': 2371, 'queen': 3579, 'wallace': 4833, 'legitimate': 2627, 'fair': 1714, 'oh': 3119, 'approved': 379, 'server': 4049, 'destroyed': 1317, 'up': 4724, 'out': 3180, 'ready': 3637, 'resume': 3821, 'cooperation': 1093, 'cyber': 1191, 'vladimir': 4809, 'praised': 3417, 'kremlin': 2546, 'collected': 926, 'stuff': 4331, 'council': 1115, 'tone': 4569, 'lifting': 2658, 'offering': 3109, 'crimea': 1153, 'reduction': 3677, 'wait': 4825, 'any': 343, 'principles': 3460, 'mutual': 2975, 'ukraine': 4677, 'abroad': 116, 'meddling': 2827, 'rebuild': 3650, 'bombshell': 630, 'traditional': 4598, 'refugees': 3689, 'growth': 2027, 'corrupt': 1109, 'owned': 3203, 'trust': 4645, 'suspicion': 4402, 'ownership': 3206, 'farm': 1731, 'maintained': 2753, 'outgoing': 3182, 'teacher': 4449, 'spread': 4232, 'gmt': 1970, 'fed': 1757, 'poland': 3370, 'integration': 2346, 'session': 4054, 'trigger': 4630, 'farright': 1733, 'spd': 4204, 'such': 4348, 'negative': 3010, 'pose': 3393, 'caused': 788, '3000': 62, 'homes': 2169, 'sends': 4028, 'sending': 4027, 'lots': 2719, 'rapists': 3620, 'setting': 4059, 'fires': 1813, 'deported': 1301, 'sorry': 4187, 'sanctuary': 3936, 'jesus': 2444, 'issued': 2415, 'felony': 1771, 'cooperate': 1092, 'la': 2554, 'screaming': 3977, 'lesson': 2630, 'noticed': 3066, 'harris': 2078, 'nearby': 3003, 'cold': 921, 'santa': 3938, 'extreme': 1688, 'cable': 716, 'therefore': 4509, 'matt': 2805, 'suggested': 4359, 'excuse': 1639, 'governing': 1992, 'confusion': 1019, 'destruction': 1319, 'aspects': 418, 'dreamers': 1446, 'accompanied': 130, 'payments': 3275, 'reforms': 3686, 'outspoken': 3192, 'van': 4756, 'jones': 2467, 'complicated': 983, 'describing': 1306, 'defend': 1255, 'bob': 621, 'corker': 1100, 'crazy': 1142, 'notice': 3065, 'situation': 4138, 'incredible': 2285, 'trillion': 4632, 'infrastructure': 2315, 'countrys': 1124, 'roads': 3874, 'roll': 3885, 'transportation': 4614, 'airports': 252, 'systems': 4416, 'desperate': 1313, 'sign': 4116, 'financing': 1801, 'announcement': 327, 'seek': 4007, 'wage': 4823, 'wages': 4824, 'measure': 2825, 'determine': 1326, '35': 67, 'tie': 4545, 'madrid': 2742, 'catalan': 780, 'ticket': 4544, 'funds': 1918, 'declaration': 1240, 'independence': 2289, 'spanish': 4202, 'bail': 492, 'euros': 1615, 'threaten': 4530, 'dec': 1231, 'rajoy': 3606, 'puigdemont': 3553, 'catalonia': 781, 'spain': 4201, 'none': 3052, 'calm': 724, 'expression': 1680, 'sovereignty': 4198, 'drive': 1453, 'anc': 310, 'missile': 2897, 'seoul': 4037, 'sidelines': 4114, 'st': 4237, 'lawmaker': 2586, 'ria': 3847, 'tests': 4491, 'suspend': 4399, 'ballistic': 496, 'cleveland': 895, 'abandon': 104, 'nafta': 2978, 'drawing': 1443, 'aggression': 230, 'consistent': 1038, 'desire': 1312, 'worlds': 4958, 'alliance': 272, 'moral': 2933, 'advance': 190, 'jake': 2430, 'its': 2423, 'relevant': 3729, 'threatened': 4531, 'allied': 273, 'considers': 1037, 'increase': 2280, 'negotiate': 3011, 'experts': 1663, 'enormous': 1568, 'institution': 2337, 'decide': 1235, 'assistant': 430, 'treasury': 4620, 'enacted': 1544, 'passed': 3255, 'allows': 278, 'withdraw': 4935, 'journalism': 2474, 'perhaps': 3298, 'honor': 2173, 'dollar': 1415, 'brutal': 688, 'willingness': 4921, 'disastrous': 1365, 'dark': 1207, 'visit': 4803, 'mattis': 2809, 'taliban': 4425, 'mixed': 2906, 'mission': 2900, 'afghan': 211, 'providing': 3542, 'equipment': 1590, 'operations': 3143, 'casualties': 779, 'insurgency': 2344, 'managing': 2769, 'difficult': 1347, 'strengthen': 4309, 'units': 4709, 'hell': 2116, 'assassination': 422, 'denial': 1288, 'suggesting': 4360, 'break': 656, 'responsible': 3812, 'agent': 228, 'do': 1404, 'guests': 2034, 'segment': 4017, 'frustrated': 1905, 'guest': 2033, 'sean': 3986, 'hannity': 2065, 'user': 4743, 'announce': 325, 'sexually': 4070, 'promoted': 3504, 'matters': 2807, 'ad': 166, 'unit': 4706, 'slammed': 4145, 'hilarious': 2140, 'colin': 922, 'offended': 3104, 'thrown': 4540, 'rifle': 3855, 'dedicated': 1246, 'fresh': 1897, 'pulled': 3555, 'loved': 2724, 'buying': 712, 'sponsor': 4228, 'fans': 1729, 'awesome': 478, 'harry': 2079, 'reid': 3713, 'upset': 4729, 'africa': 214, 'aim': 244, 'struggle': 4323, 'humanity': 2210, 'indeed': 2288, 'destroying': 1318, 'ones': 3131, 'bit': 596, 'awful': 479, 'thanks': 4497, 'sick': 4112, 'apology': 355, 'pence': 3281, 'hurt': 2216, 'strange': 4301, 'identity': 2226, 'conclusion': 996, 'missiles': 2898, 'slow': 4149, 'actors': 161, 'core': 1099, 'asylum': 436, 'greece': 2013, 'can': 736, 'coast': 916, 'filled': 1794, 'opened': 3137, 'doors': 1430, 'flood': 1834, 'encouraged': 1546, 'flow': 1837, 'widely': 4910, 'paris': 3234, 'french': 1894, 'hundred': 2211, 'parts': 3250, 'sweden': 4406, 'arrivals': 403, 'guardian': 2030, 'reckless': 3660, 'privilege': 3469, 'committing': 961, 'wars': 4848, 'funny': 1920, 'initiatives': 2319, 'larry': 2569, 'diplomats': 1354, 'engagement': 1563, 'weak': 4863, 'legacy': 2620, 'bonds': 632, 'lift': 2656, 'yemen': 4981, 'refugee': 3688, 'diplomat': 1352, 'anonymity': 330, 'solutions': 4169, 'indication': 2297, 'ali': 262, 'commissioner': 954, 'hussein': 2218, 'warned': 4842, 'practices': 3415, 'violate': 4789, 'update': 4726, 'expert': 1662, 'exists': 1647, 'proving': 3544, 'julian': 2486, 'assange': 421, 'conflict': 1014, 'narrative': 2983, 'findings': 1804, 'goes': 1975, 'momentum': 2923, 'aid': 240, 'strike': 4312, 'platform': 3349, 'expose': 1674, 'invitation': 2388, 'hits': 2157, 'insider': 2327, 'interesting': 2359, 'rush': 3917, 'gingrich': 1959, 'bar': 511, 'cycle': 1192, 'cash': 776, 'angered': 319, 'attitude': 452, 'towards': 4588, 'joseph': 2471, 'owns': 3207, 'museum': 2969, 'lady': 2558, 'citing': 873, 'assessment': 426, 'ranks': 3615, 'revelations': 3834, 'directed': 1356, 'hackers': 2047, 'briefings': 667, 'historical': 2152, 'vital': 4808, 'deadly': 1220, 'resettlement': 3789, 'teams': 4452, 'games': 1929, 'amazing': 292, 'pray': 3418, 'player': 3352, 'prayer': 3419, 'title': 4557, 'meets': 2836, 'tweeting': 4666, 'instagram': 2333, 'tremendous': 4625, 'urged': 4733, 'evening': 1618, 'tower': 4589, 'obviously': 3093, 'shift': 4087, 'kelly': 2506, 'suit': 4364, 'forum': 1871, 'purposes': 3563, 'sarah': 3940, 'maher': 2745, 'megyn': 2837, 'flint': 1833, 'lobbyists': 2689, 'steel': 4275, 'closer': 907, 'repeated': 3750, 'passing': 3259, 'introduced': 2374, 'columbia': 936, 'plant': 3347, '34': 66, 'communities': 966, 'manufacturing': 2776, 'fewer': 1776, 'strip': 4316, 'bars': 517, 'replaced': 3753, 'minimum': 2881, 'spring': 4234, 'regret': 3706, 'broad': 675, 'have': 2092, 'route': 3901, 'crowds': 1170, 'chanting': 828, 'fierce': 1779, 'dictator': 1339, 'had': 2049, 'rex': 3845, 'tillerson': 4549, 'houston': 2197, 'hurricane': 2215, 'harvey': 2082, 'administrator': 180, 'bridge': 663, 'recovery': 3672, 'additional': 172, 'storm': 4298, 'engage': 1561, '10000': 3, 'fleeing': 1828, 'significantly': 4121, '2000': 24, 'staying': 4274, 'shelter': 4083, 'disaster': 1364, 'lets': 2632, 'accuse': 140, 'loud': 2720, '49': 82, 'wounded': 4966, 'nightclub': 3040, 'horrific': 2181, 'posed': 3394, 'silent': 4125, 'blames': 603, 'gunman': 2041, 'omar': 3127, 'mateen': 2802, 'package': 3211, 'kingdom': 2530, 'declare': 1241, 'extremism': 1690, 'convicted': 1083, 'jihadists': 2450, '53': 89, 'hostage': 2185, 'battle': 527, 'peninsula': 3283, 'presence': 3428, 'traveled': 4616, 'el': 1509, 'okay': 3123, 'mandatory': 2771, 'felt': 1772, 'officer': 3112, 'trained': 4606, 'writing': 4971, 'wear': 4868, 'collection': 927, 'neighbors': 3020, 'inner': 2322, 'loyal': 2730, 'backers': 484, 'cleared': 893, 'temporarily': 4468, 'steve': 4283, 'mnuchin': 2908, 'ross': 3896, 'commerce': 951, 'wellknown': 4886, 'rogers': 3881, 'suddenly': 4351, 'christie': 862, 'removing': 3744, 'elizabeth': 1523, 'warren': 4847, 'clients': 898, '70': 97, 'jan': 2432, 'settle': 4060, 'picks': 3331, 'regulatory': 3712, 'reagan': 3638, 'parade': 3229, 'advisers': 198, 'bloomberg': 616, 'facilities': 1700, 'worried': 4960, 'speed': 4215, 'deeply': 1251, 'personnel': 3310, '2001': 25, 'lieutenant': 2653, 'flynn': 1840, 'reince': 3716, 'priebus': 3452, 'appointment': 372, 'bannon': 509, 'denounced': 1291, 'altright': 289, 'supremacists': 4382, 'approval': 377, 'rand': 3611, 'advised': 196, 'dropping': 1461, 'prospect': 3519, 'honestly': 2171, 'unhinged': 4701, 'ill': 2237, 'ignorance': 2231, 'famous': 1727, 'camera': 727, 'laughing': 2579, 'listening': 2676, 'scarborough': 3957, 'realized': 3643, 'soon': 4185, 'manila': 2773, 'philippines': 3320, 'ship': 4088, 'beijing': 553, 'islands': 2409, 'asia': 411, 'passes': 3258, 'malaysia': 2760, 'taiwan': 4420, 'features': 1754, 'monitor': 2927, 'constantly': 1042, 'monitoring': 2928, 'attended': 449, 'southeast': 4195, 'negotiating': 3013, 'framework': 1883, 'established': 1603, 'objective': 3085, 'resolution': 3798, 'raises': 3604, 'xi': 4976, 'jinping': 2454, 'disappointed': 1363, 'susan': 4395, 'rice': 3848, 'dealing': 1222, 'gathering': 1938, 'sen': 4022, 'participate': 3240, 'informed': 2314, 'bipartisan': 594, 'under': 4689, 'surrounded': 4390, 'hiring': 2147, 'ceo': 804, 'supremacist': 4381, 'finding': 1803, 'hire': 2145, 'counterpart': 1119, 'readers': 3634, 'necessarily': 3005, 'reflect': 3683, 'triggered': 4631, 'recognition': 3661, 'aftermath': 219, 'griffin': 2018, 'distance': 1391, 'courage': 1130, 'pride': 3451, 'san': 3934, 'liberation': 2644, 'renewed': 3745, 'memorial': 2843, 'square': 4236, 'becomes': 541, 'defeated': 1253, 'divisive': 1401, 'blow': 617, 'chances': 822, 'iowa': 2393, 'primaries': 3453, 'somewhat': 4179, 'striking': 4314, '55': 91, 'maryland': 2795, 'pennsylvania': 3284, 'indiana': 2294, 'dominated': 1418, 'greatest': 2012, 'isolated': 2411, 'carry': 769, 'restore': 3815, 'population': 3389, 'reduced': 3675, 'partly': 3246, 'ethnic': 1610, 'latino': 2576, 'africanamerican': 216, 'heritage': 2124, 'latinos': 2577, 'africanamericans': 217, 'somalia': 4172, 'celebrate': 795, 'confederate': 1006, 'pastor': 3261, '2002': 26, 'catholic': 784, 'welfare': 4884, 'citizenship': 876, '47': 80, '37': 69, '36': 68, 'hispanic': 2149, 'imagine': 2245, 'quietly': 3587, 'female': 1773, 'weather': 4870, 'perceived': 3289, 'sharia': 4077, 'numerous': 3077, 'barred': 515, 'wearing': 4869, 'chamber': 817, 'legislators': 2625, 'dress': 1447, 'inappropriate': 2268, 'covered': 1136, 'ripped': 3863, 'create': 1143, 'deemed': 1248, 'unacceptable': 4683, 'haley': 2052, 'eve': 1616, 'capitol': 752, 'hill': 2141, 'professional': 3486, 'tries': 4629, 'strict': 4311, 'covering': 1137, 'watson': 4858, 'clock': 903, 'controversy': 1079, 'hates': 2089, 'sixth': 4140, 'principal': 3458, 'vatican': 4760, 'pope': 3386, 'francis': 1885, 'sexual': 4069, 'participants': 3239, 'content': 1055, 'adults': 189, 'rape': 3617, 'verdict': 4765, 'medicine': 2832, 'invest': 2376, 'minds': 2879, 'vision': 4802, 'zero': 4994, 'conviction': 1084, 'grounds': 2021, 'commission': 953, 'root': 3893, 'laundering': 2583, '63': 95, 'charlottesville': 838, 'whatever': 4894, 'releasing': 3728, 'nazis': 3000, 'seeing': 4006, '2017the': 44, 'anyway': 348, 'elect': 1511, 'fascist': 1734, 'retaliation': 3822, 'covers': 1138, 'amazon': 293, 'spreading': 4233, 'maine': 2748, 'usual': 4748, 'strongest': 4319, 'planet': 3343, 'stating': 4266, 'option': 3157, 'careful': 761, 'goal': 1972, 'prosperity': 3521, 'cool': 1090, 'improved': 2265, 'australia': 460, 'counterterrorism': 1120, 'follows': 1849, 'stunned': 4332, 'philippine': 3319, 'civilians': 880, 'displaced': 1383, 'singapore': 4130, 'aircraft': 248, 'australian': 461, '80': 99, 'marine': 2785, 'indonesia': 2302, 'briefing': 666, 'baghdad': 491, 'reviewing': 3840, 'deployment': 1298, 'planes': 3342, 'bilateral': 587, 'roger': 3880, 'ailes': 243, 'ousted': 3179, 'carlson': 765, 'reilly': 3714, 'harassment': 2071, 'jack': 2426, 'sue': 4352, 'contract': 1064, 'admitting': 185, 'sexist': 4068, 'kurdistan': 2549, 'krg': 2547, 'independently': 2291, 'tension': 4474, 'kurds': 2550, 'overwhelmingly': 3202, 'neighboring': 3019, 'demonstrators': 1286, 'usled': 4747, 'invasion': 2375, 'boom': 635, 'pipeline': 3335, 'kirkuk': 2531, 'disputed': 1386, 'flights': 1832, 'stable': 4239, 'cleansing': 891, 'bus': 704, 'colombia': 933, 'rural': 3916, 'reconciliation': 3666, 'capital': 751, 'puerto': 3552, 'rebels': 3649, 'delayed': 1267, 'ceasefire': 793, 'begun': 549, '65': 96, 'berlin': 569, 'syrian': 4414, 'afd': 204, 'seekers': 4008, 'gabriel': 1924, 'geneva': 1948, 'developing': 1332, 'minnesota': 2886, 'departments': 1295, 'recipients': 3659, 'detention': 1325, 'appeals': 359, 'handle': 2061, 'proceedings': 3478, 'agriculture': 237, 'antonio': 342, 'newspapers': 3033, 'editorial': 1495, 'audio': 456, 'editing': 1493, 'sap': 3939, 'creation': 1146, 'production': 3484, 'describe': 1303, 'stepped': 4280, 'managed': 2766, 'foreigners': 1861, 'wanting': 4838, 'grew': 2017, 'resident': 3791, 'mosque': 2939, 'pakistan': 3219, 'abu': 120, 'mohammad': 2918, 'offensive': 3106, 'insulting': 2340, 'thousand': 4527, 'notes': 3063, 'sale': 3930, 'reads': 3636, 'orange': 3160, 'accurate': 137, 'deserve': 1308, 'absolute': 118, 'solve': 4170, 'disturbing': 1394, 'fix': 1821, 'va': 4751, 'organizing': 3170, 'cares': 763, 'mental': 2845, 'funeral': 1919, 'ball': 495, 'inspector': 2331, 'priority': 3463, '1980s': 15, 'brady': 649, 'smaller': 4151, 'sharp': 4079, 'dissent': 1390, 'elements': 1519, 'deduction': 1247, 'removal': 3741, 'gift': 1958, 'error': 1595, 'pass': 3253, 'cap': 747, 'compromise': 986, 'provision': 3545, 'equity': 1591, 'hedge': 2114, 'longterm': 2702, 'signing': 4122, 'debt': 1230, 'ronald': 3890, 'atlantic': 439, 'earnest': 1477, 'internal': 2364, 'bitter': 597, 'reutersipsos': 3830, '41': 74, 'mate': 2801, 'youre': 4990, 'presented': 3430, 'potentially': 3407, 'differences': 1345, 'websites': 4873, 'joke': 2464, 'networks': 3026, 'encouraging': 1547, 'favored': 1742, 'vermont': 4767, 'hack': 2045, 'bureau': 700, 'strikes': 4313, 'drone': 1458, 'injuries': 2321, 'heavy': 2113, 'pac': 3208, 'male': 2761, 'progressive': 3494, 'weapon': 4866, 'driver': 1455, 'ed': 1491, 'titled': 4558, 'promise': 3499, 'endorse': 1551, 'biden': 581, 'chicago': 844, 'style': 4335, 'quo': 3590, 'choose': 855, 'scenario': 3960, 'bay': 528, 'israeli': 2413, 'stephen': 4279, 'colbert': 920, 'cancer': 741, 'ballot': 497, 'commercial': 952, '56': 92, 'pacific': 3210, 'nevada': 3027, 'dakota': 1196, 'permits': 3303, 'exercise': 1642, 'eager': 1473, 'cocaine': 917, 'republicancontrolled': 3772, 'formally': 1865, 'grant': 2003, 'larger': 2567, 'freeze': 1893, 'pension': 3285, 'expanded': 1650, 'standard': 4249, 'replacing': 3755, 'blasio': 605, 'reserve': 3788, 'savings': 3947, 'mccarthy': 2817, 'devastating': 1329, 'congressman': 1023, 'korean': 2544, 'delegation': 1270, 'opportunities': 3149, 'exchanges': 1637, 'jong': 2468, 'travelers': 4617, 'fails': 1712, 'requirements': 3782, 'envoy': 1583, 'federation': 1759, 'affect': 207, 'applications': 367, 'missouri': 2902, 'store': 4295, 'affected': 208, 'hall': 2054, 'produce': 3480, 'constituents': 1043, 'predicted': 3422, 'granted': 2004, 'tech': 4455, 'disease': 1378, 'wider': 4911, 'unite': 4707, 'scary': 3959, 'respected': 3805, 'understood': 4695, 'science': 3971, 'proven': 3536, 'merely': 2848, 'stars': 4255, 'jimmy': 2453, 'original': 3172, 'feed': 1761, 'unfortunately': 4700, 'oval': 3193, 'ceiling': 794, 'afternoon': 220, 'fck': 1747, 'violation': 4792, 'impeachment': 2253, 'somodevillagetty': 4180, 'franken': 1888, 'answered': 334, 'communication': 963, '1999': 21, 'reasonable': 3646, 'william': 4918, 'nixon': 3043, 'affair': 205, 'witch': 4933, 'ass': 419, 'retirement': 3824, 'increases': 2282, 'municipal': 2964, 'egyptian': 1506, 'ahmed': 239, 'cairo': 717, 'spot': 4230, 'headline': 2098, 'articles': 408, 'incoming': 2279, 'spicer': 4220, 'glenn': 1967, 'beck': 539, 'blast': 606, 'asks': 417, 'serial': 4043, 'brian': 662, 'hosts': 2188, 'busy': 709, 'division': 1399, 'likes': 2662, 'congresswoman': 1024, 'wilson': 4922, 'weinstein': 4881, 'dressed': 1448, 'fault': 1739, 'abandoned': 105, 'canadian': 738, 'emmanuel': 1535, '46': 79, 'ranging': 3613, 'vehicle': 4762, 'chemical': 843, 'lee': 2615, '5000': 85, 'reviewed': 3839, 'manufacturers': 2775, 'cohn': 919, 'committees': 960, 'extensive': 1684, 'wang': 4835, 'software': 4161, 'youth': 4991, 'academic': 123, 'keeps': 2504, 'oversight': 3200, 'perry': 3304, 'mcmaster': 2819, 'stick': 4285, 'severe': 4066, 'primarily': 3454, 'judicial': 2484, 'infamous': 2307, 'hiding': 2131, 'answers': 335, 'comeys': 944, 'alert': 259, 'demonstrations': 1285, 'flight': 1831, 'antifa': 339, 'feared': 1750, 'berkeley': 568, 'resist': 3796, 'ms': 2956, 'permit': 3302, 'unrest': 4721, 'scientific': 3972, 'birth': 595, 'tea': 4447, 'phrase': 3327, 'bathrooms': 526, 'abortions': 114, 'doctors': 1406, 'koreas': 2545, 'urges': 4735, 'privacy': 3466, 'stores': 4296, 'rooms': 3892, 'puts': 3571, 'sites': 4136, 'task': 4439, 'charlotte': 837, 'sister': 4133, 'grace': 1999, 'stone': 4290, 'latin': 2575, 'economies': 1488, 'jose': 2470, 'graft': 2000, 'guys': 2044, 'harvard': 2081, 'saved': 3946, 'provisions': 3546, 'tehran': 4460, 'spirit': 4221, 'macron': 2738, 'comprehensive': 985, 'netanyahu': 3024, 'suspension': 4401, 'le': 2594, 'convince': 1085, 'rouhani': 3898, 'lebanon': 2613, 'gap': 1931, 'rapidly': 3619, 'transparency': 4612, 'confident': 1009, 'weve': 4892, 'advisory': 200, 'principle': 3459, 'withdrawal': 4936, 'koch': 2541, 'represent': 3764, 'gore': 1987, 'goldman': 1979, 'sachs': 3924, 'counties': 1121, 'standards': 4250, 'nikki': 3041, 'houses': 2195, 'cuomo': 1180, 'jay': 2438, 'impose': 2260, 'trudeau': 4640, 'hatch': 2086, 'consumers': 1049, 'disclose': 1366, 'consideration': 1034, 'determined': 1327, 'laid': 2559, 'turnout': 4661, 'fail': 1709, 'branch': 651, 'condemnation': 999, 'divisions': 1400, 'flake': 1824, 'havana': 2091, 'participation': 3241, 'represents': 3769, 'farmers': 1732, 'loves': 2725, 'properly': 3511, 'display': 1384, 'denying': 1293, 'recognize': 3662, 'jerusalem': 2443, 'stressed': 4310, 'sparked': 4203, '1995': 19, 'movie': 2952, 'tired': 4556, 'gonna': 1982, 'huffington': 2205, 'irma': 2401, 'rating': 3627, '75': 98, 'haiti': 2051, 'zuma': 4999, 'contracts': 1067, 'profile': 3488, 'aug': 458, 'hassan': 2084, 'deadline': 1219, 'bond': 631, 'duty': 1471, 'obligation': 3086, 'accident': 129, 'highway': 2139, 'age': 224, 'confronted': 1017, 'andy': 315, 'expire': 1664, 'requiring': 3784, 'landmark': 2562, 'extension': 1683, 'nominated': 3047, 'submitted': 4337, 'regulators': 3711, 'loans': 2686, 'wells': 4887, 'tested': 4486, 'odds': 3100, 'doddfrank': 1410, 'cfpb': 808, 'brother': 681, 'actively': 155, 'attempting': 446, 'hidden': 2129, 'publication': 3549, 'declaring': 1243, 'dhs': 1337, 'locations': 2693, 'frank': 1887, 'partisan': 3245, 'politico': 3378, 'achieve': 144, 'sudden': 4350, 'co': 913, 'firms': 1816, 'supplies': 4371, 'chinas': 850, 'myanmar': 2977, 'rakhine': 3607, 'rohingya': 3882, 'bangladesh': 502, 'camps': 734, 'tools': 4574, 'villages': 4788, 'burned': 702, 'shooter': 4095, 'raqqa': 3621, 'garland': 1932, 'agents': 229, 'undercover': 4690, 'successfully': 4346, 'staged': 4244, 'art': 406, 'papers': 3228, '2007': 31, 'scope': 3974, 'trend': 4626, 'suspect': 4396, 'supposedly': 4380, 'filessupport': 1791, '21wiretv': 51, 'singer': 4131, 'womens': 4944, 'teen': 4459, 'nigeria': 3038, 'injured': 2320, 'girls': 1961, 'towns': 4591, 'implement': 2254, 'drinking': 1452, 'reaching': 3631, 'chiefs': 846, 'comedy': 941, 'babies': 480, 'comedian': 940, 'complaints': 977, 'ultimate': 4679, 'badly': 490, 'registered': 3704, 'procedures': 3476, 'suggestion': 4361, 'bear': 532, 'invited': 2389, 'animals': 321, 'factor': 1706, 'outreach': 3189, 'celebrity': 798, 'operatives': 3144, 'stations': 4268, 'maximum': 2810, 'lord': 2709, 'persecution': 3305, 'accepting': 127, 'endorsing': 1554, 'endorsed': 1552, 'success': 4344, 'enemies': 1556, 'artist': 409, 'klan': 2533, 'resources': 3803, 'economist': 1489, '800': 100, 'sharply': 4080, 'walls': 4834, 'limits': 2665, 'premiums': 3424, 'wildlife': 4916, 'drilling': 1450, 'securities': 4003, 'sec': 3992, 'annual': 329, 'regard': 3695, 'mess': 2850, 'rico': 3852, 'bankruptcy': 505, 'zika': 4995, 'virus': 4799, 'options': 3158, 'narrow': 2984, 'margin': 2782, 'weekly': 4877, 'understands': 4694, 'draw': 1442, 'palestinians': 3222, 'irans': 2396, 'fighter': 1782, 'jets': 2446, 'desert': 1307, 'corner': 1101, 'screening': 3980, 'device': 1334, 'explosion': 1670, 'direction': 1357, 'monetary': 2925, 'boeing': 624, 'adds': 176, 'recession': 3658, 'stein': 4277, 'nominees': 3051, 'convoy': 1087, 'hezbollah': 2128, 'advanced': 191, 'hosted': 2186, 'connected': 1025, 'sunni': 4369, 'shi': 4085, 'ite': 2421, 'hariri': 2076, 'lebanese': 2612, 'saudis': 3944, 'michel': 2859, 'beirut': 555, 'factions': 1705, 'clarify': 886, 'mogul': 2916, 'insult': 2339, 'maria': 2783, 'expressing': 1679, 'frankly': 1889, 'donated': 1422, 'donation': 1423, 'marks': 2790, 'cultural': 1178, 'offense': 3105, 'tariffs': 4438, 'requirement': 3781, 'goods': 1984, 'credits': 1150, 'intellectual': 2349, 'melania': 2838, 'regards': 3698, 'hitler': 2156, 'speeches': 4214, 'stepping': 4281, 'mexicans': 2855, 'stuck': 4326, 'detroit': 1328, 'suffering': 4356, 'moments': 2922, 'procedure': 3475, 'veto': 4772, 'appoint': 370, 'extraordinary': 1687, 'surprised': 4388, 'unfit': 4699, 'urge': 4732, 'defined': 1261, 'bigoted': 585, 'advice': 195, 'wolf': 4941, 'circuit': 869, 'authorized': 466, 'voiced': 4812, 'focusing': 1843, 'panels': 3226, 'inquiry': 2324, 'reflects': 3684, 'suspects': 4398, 'telephone': 4461, 'killings': 2524, 'extend': 1681, 'treason': 4619, 'forms': 1868, 'colleges': 930, 'universities': 4711, 'capabilities': 748, 'convinced': 1086, 'brazil': 654, 'boat': 620, 'cross': 1166, 'into': 2372, 'entirely': 1577, 'favors': 1744, 'fan': 1728, 'applied': 368, 'harsh': 2080, 'vocal': 4810, 'complain': 974, 'falling': 1720, 'classified': 889, 'tool': 4573, 'dishonest': 1380, 'credible': 1148, 'introduce': 2373, 'deciding': 1237, 'abuses': 122, 'electronic': 1518, 'judgment': 2483, 'instance': 2334, 'prefer': 3423, 'staffers': 4242, 'bombs': 629, 'passenger': 3256, 'maintaining': 2754, 'cars': 771, 'drivers': 1456, 'buildings': 692, 'rosenstein': 3895, 'yates': 4977, 'punish': 3558, 'echoed': 1486, 'partnership': 3249, 'discriminatory': 1372, 'kurz': 2551, 'survey': 4393, 'pena': 3279, 'nieto': 3037, 'chaffetz': 809, 'ranking': 3614, 'afford': 209, 'zimbabwe': 4996, 'mugabe': 2961, 'subsequently': 4340, 'alexander': 261, 'standoff': 4252, 'justify': 2496, 'occupied': 3095, 'indian': 2293, 'india': 2292, 'blind': 608, 'comparison': 971, 'baldwin': 494, 'snap': 4154, 'broadcaster': 677, 'application': 366, 'tourism': 4585, 'leftwing': 2619, 'transport': 4613, 'protrump': 3532, 'reminded': 3740, 'wonderful': 4946, 'swamp': 4405, 'lifetime': 2655, 'imposing': 2262, 'sovereign': 4197, 'enforce': 1559, 'choosing': 856, 'stocks': 4288, 'mining': 2882, 'kennedy': 2508, 'epa': 1584, 'michelle': 2860, 'improving': 2266, 'administrative': 179, 'religion': 3731, 'persons': 3311, 'restrict': 3816, 'approximately': 380, '400': 73, 'moon': 2931, 'ron': 3889, 'wave': 4859, 'vetting': 4773, 'entry': 1580, 'venezuela': 4764, 'row': 3902, 'ukrainian': 4678, 'accusation': 138, 'reputation': 3775, 'healthy': 2104, 'intervention': 2368, 'resolved': 3801, 'apple': 365, 'bernardino': 570, 'bruce': 686, 'valley': 4753, 'advances': 192, 'dems': 1287, 'reading': 3635, 'est': 1601, 'category': 783, 'rein': 3715, 'resolutions': 3799, 'sharing': 4078, 'waters': 4857, 'kong': 2542, 'conducting': 1005, 'tokyo': 4563, 'carter': 773, 'dialogue': 1338, 'barriers': 516, 'intent': 2354, 'turnbull': 4658, 'parent': 3231, 'successor': 4347, 'mnangagwa': 2907, 'juan': 2480, 'urgent': 4734, 'bullshit': 694, 'maxine': 2811, 'epic': 1585, 'match': 2800, 'evil': 1629, 'isnt': 2410, 'abe': 109, 'wind': 4924, 'contested': 1057, 'preventing': 3446, 'band': 501, 'crew': 1151, 'finds': 1805, 'estimate': 1606, 'nominate': 3046, 'cry': 1175, 'mob': 2909, 'rumors': 3912, 'tapper': 4433, 'rob': 3875, 'tpp': 4593, 'customers': 1186, 'lengthy': 2628, 'keith': 2505, 'bought': 644, 'luxury': 2734, 'clip': 902, 'barnier': 514, 'adam': 167, 'elderly': 1510, 'coulter': 1114, 'nazi': 2999, 'chapter': 830, 'hub': 2203, 'airline': 249, 'passengers': 3257, 'laugh': 2578, 'daughters': 1211, 'emotional': 1536, 'champion': 819, 'bans': 510, 'caucus': 785, 'uncomfortable': 4686, 'subpoena': 4338, 'naval': 2997, 'sweeping': 4408, 'transfer': 4609, 'operating': 3141, 'ford': 1859, 'auto': 467, 'somali': 4171, 'temer': 4467, 'anymore': 345, 'insist': 2328, 'hitting': 2158, 'profit': 3489, 'cambodia': 725, 'baby': 481, 'weiner': 4880, 'elite': 1522, 'duties': 1470, 'avenue': 469, 'sports': 4229, 'jet': 2445, 'cameras': 728, 'quote': 3591, 'floor': 1835, 'relatives': 3725, 'empty': 1543, 'schiff': 3966, 'relationships': 3723, 'chelsea': 842, 'critic': 1158, 'walker': 4830, 'select': 4019, 'antonin': 341, 'scalia': 3953, 'plenty': 3361, 'highlights': 2136, 'settlements': 4063, 'admission': 181, 'incumbent': 2287, 'baseball': 519, 'offers': 3110, 'patients': 3265, 'shouting': 4104, 'erupted': 1596, 'breaks': 658, 'damaging': 1200, 'jeb': 2439, 'structure': 4322, 'easier': 1480, 'hey': 2127, 'guess': 2032, 'sentences': 4035, 'write': 4968, 'regions': 3702, 'wild': 4915, 'founding': 1879, 'secrets': 3997, 'girl': 1960, 'slavery': 4147, 'suffer': 4354, 'airlines': 250, 'odinga': 3101, 'kenyatta': 2511, '51': 87, 'statue': 4270, 'mary': 2794, 'mccain': 2816, 'register': 3703, 'hero': 2125, 'brave': 653, '48': 81, 'treat': 4621, 'overcome': 3196, 'ring': 3860, 'collins': 931, 'misconduct': 2892, 'punishment': 3560, 'exception': 1635, 'falsely': 1723, 'sons': 4184, 'intel': 2348, 'soninlaw': 4183, 'jared': 2436, 'kushner': 2552, 'duterte': 1469, 'maduro': 2743, 'dying': 1472, 'crude': 1173, 'tourists': 4586, 'visitors': 4806, 'hotels': 2191, 'raped': 3618, 'cop': 1096, 'confused': 1018, 'militia': 2873, 'intentionally': 2356, 'damascus': 1201, 'cooper': 1091, 'materials': 2804, 'rt': 3905, 'seconds': 3994, 'consent': 1029, 'amendments': 296, 'audit': 457, 'generals': 1945, 'powell': 3410, 'fundraiser': 1916, 'assad': 420, 'shit': 4090, 'coordinated': 1094, 'whoever': 4905, 'shots': 4102, 'flags': 1823, 'thailand': 4494, 'reviews': 3841, 'box': 645, 'lone': 2698, 'integrity': 2347, 'rescue': 3785, 'damn': 1202, 'daniel': 1206, 'possession': 3398, 'dealings': 1223, 'recommendations': 3664, 'pool': 3384, 'residence': 3790, 'dirty': 1360, 'hillarys': 2143, '2020': 47, 'houthi': 2198, 'houthis': 2199, 'fdp': 1748, 'libyan': 2648, 'topics': 4577, 'expenses': 1658, 'crash': 1141, 'compliance': 982, 'staterun': 4264, 'civilian': 879, 'amounts': 305, 'pakistani': 3220, 'hong': 2172, 'mainland': 2749, 'swedish': 4407, 'argentina': 387, 'secured': 4002, 'posting': 3404, 'expectations': 1654, 'symbol': 4412, 'kimmel': 2526, 'conyers': 1089, 'whenever': 4897, 'persuade': 3313, 'firearms': 1811, 'than': 4495, 'briefly': 668, 'shop': 4098, 'lewandowski': 2638, 'anticorruption': 338, 'morgan': 2935, 'edwards': 1498, 'tragic': 4603, 'entertainment': 1575, 'map': 2778, 'kellyanne': 2507, 'conway': 1088, 'older': 3126, 'damaged': 1199, 'palestinian': 3221, 'abbas': 106, 'gaza': 1941, 'hamas': 2056, 'muellers': 2960, 'fly': 1838, 'fate': 1737, 'palin': 3223, 'jill': 2451, 'hispanics': 2150, 'counts': 1125, 'loan': 2685, 'duke': 1466, 'nasty': 2985, 'admits': 183, 'steele': 4276, 'mad': 2739, 'locker': 2695, 'edt': 1496, 'doug': 1435, '9th': 103, 'carrier': 768, 'lake': 2560, 'insurgents': 2345, 'mosul': 2942, 'congo': 1020, 'las': 2570, 'vegas': 4761, 'uranium': 4730, 'grassley': 2007, 'fusion': 1922, 'gps': 1997, 'tennessee': 4472, 'origin': 3171, 'flee': 1827, 'suu': 4404, 'kyi': 2553, 'huckabee': 2204, 'maddow': 2740, 'rnc': 3872, 'coordination': 1095, 'peskov': 3314, 'info': 2311, 'usbacked': 4740, 'penalty': 3280, 'flat': 1825, 'tears': 4454, 'feature': 1752, 'aleppo': 258, 'taylor': 4445, 'misleading': 2894, 'sdf': 3984, 'devos': 1336, 'murphy': 2967, 'confrontation': 1016, 'punished': 3559, 'jihadist': 2449, 'mccabe': 2815, 'spencer': 4216, 'feinstein': 1768, 'louis': 2721, 'illegals': 2240, 'stamp': 4246, 'misguided': 2893, 'lopez': 2708, 'recount': 3671, 'acr': 147, 'boiler': 625, 'detainees': 1324, 'beaten': 534, 'mississippi': 2901, 'nationalists': 2989, 'caribbean': 764, 'sharpton': 4081, 'snyder': 4155, 'tsai': 4650, 'fcc': 1746, 'kaepernick': 2498, 'perez': 3292}\n"
          ]
        }
      ]
    },
    {
      "cell_type": "code",
      "source": [
        "# Initialise and fit the Naïve Bayes Classifier and fit the training dataset on the NB classifier\n",
        "Naive = MultinomialNB()\n",
        "Naive.fit(X_train_counts, y_train)"
      ],
      "metadata": {
        "colab": {
          "base_uri": "https://localhost:8080/",
          "height": 74
        },
        "id": "cpKw0KKZUuRn",
        "outputId": "1caf4529-a1a7-404b-c83e-ed37d14f7a7f"
      },
      "execution_count": null,
      "outputs": [
        {
          "output_type": "execute_result",
          "data": {
            "text/plain": [
              "MultinomialNB()"
            ],
            "text/html": [
              "<style>#sk-container-id-1 {color: black;background-color: white;}#sk-container-id-1 pre{padding: 0;}#sk-container-id-1 div.sk-toggleable {background-color: white;}#sk-container-id-1 label.sk-toggleable__label {cursor: pointer;display: block;width: 100%;margin-bottom: 0;padding: 0.3em;box-sizing: border-box;text-align: center;}#sk-container-id-1 label.sk-toggleable__label-arrow:before {content: \"▸\";float: left;margin-right: 0.25em;color: #696969;}#sk-container-id-1 label.sk-toggleable__label-arrow:hover:before {color: black;}#sk-container-id-1 div.sk-estimator:hover label.sk-toggleable__label-arrow:before {color: black;}#sk-container-id-1 div.sk-toggleable__content {max-height: 0;max-width: 0;overflow: hidden;text-align: left;background-color: #f0f8ff;}#sk-container-id-1 div.sk-toggleable__content pre {margin: 0.2em;color: black;border-radius: 0.25em;background-color: #f0f8ff;}#sk-container-id-1 input.sk-toggleable__control:checked~div.sk-toggleable__content {max-height: 200px;max-width: 100%;overflow: auto;}#sk-container-id-1 input.sk-toggleable__control:checked~label.sk-toggleable__label-arrow:before {content: \"▾\";}#sk-container-id-1 div.sk-estimator input.sk-toggleable__control:checked~label.sk-toggleable__label {background-color: #d4ebff;}#sk-container-id-1 div.sk-label input.sk-toggleable__control:checked~label.sk-toggleable__label {background-color: #d4ebff;}#sk-container-id-1 input.sk-hidden--visually {border: 0;clip: rect(1px 1px 1px 1px);clip: rect(1px, 1px, 1px, 1px);height: 1px;margin: -1px;overflow: hidden;padding: 0;position: absolute;width: 1px;}#sk-container-id-1 div.sk-estimator {font-family: monospace;background-color: #f0f8ff;border: 1px dotted black;border-radius: 0.25em;box-sizing: border-box;margin-bottom: 0.5em;}#sk-container-id-1 div.sk-estimator:hover {background-color: #d4ebff;}#sk-container-id-1 div.sk-parallel-item::after {content: \"\";width: 100%;border-bottom: 1px solid gray;flex-grow: 1;}#sk-container-id-1 div.sk-label:hover label.sk-toggleable__label {background-color: #d4ebff;}#sk-container-id-1 div.sk-serial::before {content: \"\";position: absolute;border-left: 1px solid gray;box-sizing: border-box;top: 0;bottom: 0;left: 50%;z-index: 0;}#sk-container-id-1 div.sk-serial {display: flex;flex-direction: column;align-items: center;background-color: white;padding-right: 0.2em;padding-left: 0.2em;position: relative;}#sk-container-id-1 div.sk-item {position: relative;z-index: 1;}#sk-container-id-1 div.sk-parallel {display: flex;align-items: stretch;justify-content: center;background-color: white;position: relative;}#sk-container-id-1 div.sk-item::before, #sk-container-id-1 div.sk-parallel-item::before {content: \"\";position: absolute;border-left: 1px solid gray;box-sizing: border-box;top: 0;bottom: 0;left: 50%;z-index: -1;}#sk-container-id-1 div.sk-parallel-item {display: flex;flex-direction: column;z-index: 1;position: relative;background-color: white;}#sk-container-id-1 div.sk-parallel-item:first-child::after {align-self: flex-end;width: 50%;}#sk-container-id-1 div.sk-parallel-item:last-child::after {align-self: flex-start;width: 50%;}#sk-container-id-1 div.sk-parallel-item:only-child::after {width: 0;}#sk-container-id-1 div.sk-dashed-wrapped {border: 1px dashed gray;margin: 0 0.4em 0.5em 0.4em;box-sizing: border-box;padding-bottom: 0.4em;background-color: white;}#sk-container-id-1 div.sk-label label {font-family: monospace;font-weight: bold;display: inline-block;line-height: 1.2em;}#sk-container-id-1 div.sk-label-container {text-align: center;}#sk-container-id-1 div.sk-container {/* jupyter's `normalize.less` sets `[hidden] { display: none; }` but bootstrap.min.css set `[hidden] { display: none !important; }` so we also need the `!important` here to be able to override the default hidden behavior on the sphinx rendered scikit-learn.org. See: https://github.com/scikit-learn/scikit-learn/issues/21755 */display: inline-block !important;position: relative;}#sk-container-id-1 div.sk-text-repr-fallback {display: none;}</style><div id=\"sk-container-id-1\" class=\"sk-top-container\"><div class=\"sk-text-repr-fallback\"><pre>MultinomialNB()</pre><b>In a Jupyter environment, please rerun this cell to show the HTML representation or trust the notebook. <br />On GitHub, the HTML representation is unable to render, please try loading this page with nbviewer.org.</b></div><div class=\"sk-container\" hidden><div class=\"sk-item\"><div class=\"sk-estimator sk-toggleable\"><input class=\"sk-toggleable__control sk-hidden--visually\" id=\"sk-estimator-id-1\" type=\"checkbox\" checked><label for=\"sk-estimator-id-1\" class=\"sk-toggleable__label sk-toggleable__label-arrow\">MultinomialNB</label><div class=\"sk-toggleable__content\"><pre>MultinomialNB()</pre></div></div></div></div></div>"
            ]
          },
          "metadata": {},
          "execution_count": 12
        }
      ]
    },
    {
      "cell_type": "code",
      "source": [
        "# predict the labels on validation dataset\n",
        "predictions_NB = Naive.predict(X_test)\n",
        "# Use accuracy_score function to get the accuracy\n",
        "# very accurate bc of assumption of independence!\n",
        "print(\"Accuracy Score:\",accuracy_score(predictions_NB, y_test)*100)"
      ],
      "metadata": {
        "colab": {
          "base_uri": "https://localhost:8080/"
        },
        "id": "oHBCcry1U9eq",
        "outputId": "108d42e2-a5bb-47b1-e6c7-e1f2be02ff3e"
      },
      "execution_count": null,
      "outputs": [
        {
          "output_type": "stream",
          "name": "stdout",
          "text": [
            "Accuracy Score: 96.68596881959911\n"
          ]
        }
      ]
    },
    {
      "cell_type": "code",
      "source": [
        "test_str = \"\"\"Two top congressional Democrats opened an investigation on Saturday into President Trump’s removal of Steve A. Linick, who led the office of the inspector general at the State Department, citing a pattern of “politically-motivated firing of inspectors general.” Mr. Trump told Speaker Nancy Pelosi late Friday night that he was ousting Mr. Linick, who was named by President Barack Obama to the State Department post, and replacing him with an ambassador with close ties to Vice President Mike Pence in the latest purge of inspectors general whom Mr. Trump has deemed insufficiently loyal to his administration. In letters to the White House, State Department, and Mr. Linick, Representative Eliot L. Engel of New York, the chairman of the House Foreign Affairs Committee, and Senator Bob Menendez of New Jersey, the top Democrat on the Senate Foreign Relations Committee, requested that the administration turn over records and information related to the firing of Mr. Linick as well as “records of all I.G. investigations involving the Office of the Secretary that were open, pending, or incomplete at the time of Mr. Linick’s firing.” Mr. Engel and Mr. Menendez said in their letters that they believe Secretary of State Mike Pompeo recommended Mr. Linick’s ouster because he had opened an investigation into Mr. Pompeo’s conduct. The lawmakers did not provide any more details, but a Democratic aide said that Mr. Linick had been looking into whether Mr. Pompeo had misused a political appointee at the State Department to perform personal tasks for himself and his wife. “Such an action, transparently designed to protect Secretary Pompeo from personal accountability, would undermine the foundation of our democratic institutions and may be an illegal act of retaliation,” the lawmakers wrote. Under law, the administration must notify Congress 30 days before formally terminating an inspector general. Mr. Linick is expected to leave his post then. Mr. Trump’s decision to remove Mr. Linick is the latest in a series of ousters aimed at inspectors general who the president and his allies believe are opposed to his agenda. In May, Mr. Trump moved to oust Christi A. Grimm, the principal deputy inspector general for the Department of Health and Human Services, whose office had issued a report revealing the dire state of the nation’s response to the pathogen. He has also taken steps to remove two other inspectors general, for the intelligence community and for the Defense Department. Mr. Linick was spotlighted during the impeachment inquiry when he requested an urgent meeting with congressional staff members to give them copies of documents related to the State Department and Ukraine, signaling they could be relevant to the House investigation into whether President Trump pressured Ukraine to investigate former Vice President Joseph R. Biden Jr. and his son Hunter Biden. The documents — a record of contacts between Rudolph W. Giuliani, the president’s personal lawyer, and Ukrainian prosecutors, as well as accounts of Ukrainian law enforcement proceedings — turned out to be largely inconsequential.\"\"\""
      ],
      "metadata": {
        "id": "1IzQ-saeVEcf"
      },
      "execution_count": null,
      "outputs": []
    },
    {
      "cell_type": "code",
      "source": [
        "test_str = test_str.translate(str.maketrans('', '', string.punctuation))\n",
        "test_str = ' '.join([word for word in test_str.split() if word not in (stop_words)])\n",
        "test_str_doc = [test_str]\n",
        "test_str_vec = count_vect.transform(test_str_doc) # create bag of words\n",
        "predict_test = Naive.predict(test_str_vec) # applying it to the trained model\n",
        "\n",
        "print(predict_test)"
      ],
      "metadata": {
        "colab": {
          "base_uri": "https://localhost:8080/"
        },
        "id": "Av_aErQEVOro",
        "outputId": "4c0f5c7d-9deb-49c7-ee0b-901d04d61add"
      },
      "execution_count": null,
      "outputs": [
        {
          "output_type": "stream",
          "name": "stdout",
          "text": [
            "[0]\n"
          ]
        }
      ]
    },
    {
      "cell_type": "code",
      "source": [],
      "metadata": {
        "id": "nrF2H6ikVkxC"
      },
      "execution_count": null,
      "outputs": []
    }
  ]
}